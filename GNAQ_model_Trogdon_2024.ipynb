{
 "cells": [
  {
   "cell_type": "code",
   "execution_count": 1,
   "metadata": {},
   "outputs": [],
   "source": [
    "#Import libraries you will need (along with some plot magic for notebooks)\n",
    "%matplotlib inline\n",
    "import numpy\n",
    "import matplotlib.pyplot as plt\n",
    "import scipy.integrate\n",
    "import scipy.stats\n",
    "import pickle\n",
    "import random"
   ]
  },
  {
   "cell_type": "code",
   "execution_count": 2,
   "metadata": {},
   "outputs": [],
   "source": [
    "import matplotlib\n",
    "matplotlib.rcParams['pdf.fonttype'] = 42\n",
    "matplotlib.rcParams['ps.fonttype'] = 42"
   ]
  },
  {
   "cell_type": "code",
   "execution_count": 3,
   "metadata": {},
   "outputs": [],
   "source": [
    "numpy.set_printoptions(precision=3,suppress=True)"
   ]
  },
  {
   "cell_type": "markdown",
   "metadata": {},
   "source": [
    "## Base model"
   ]
  },
  {
   "cell_type": "code",
   "execution_count": 4,
   "metadata": {},
   "outputs": [],
   "source": [
    "#Model with RGS as an explicit species\n",
    "def gnaq_wt_and_mut_basal(k_G1=0.0825,k_G1_mut=0.0825,\n",
    "                          k_G2=0.0,k_G2_mut=0.0,\n",
    "                          k_dG1=0.0027,k_dG2=0.0027*100,\n",
    "                          k_at1=0.498,k_at1_mut=0.498,k_dt1=0.3,\n",
    "                          k_at2=0.498,k_at2_mut=0.498,k_dt2=0.3,\n",
    "                          k_at3=0.498,k_at3_mut=0.498,k_dt3=0.3,\n",
    "                          k_cat1=10.0,K_m1=500,\n",
    "                          k_cat2=25.0,k_cat2_mut=25.0,\n",
    "                          k_hyd2=10.0,k_hyd2_mut=10.0,\n",
    "                          k_hyd=0.013,k_hyd_mut=0.013,\n",
    "                          ka_gtp=1.1*10**5,kd_gtp=1.3*10**-5,ka_gdp=1.1*10**5,kd_gdp=3.5*10**-4,GTP=1.8*10**-4,GDP=1.8*10**-5,\n",
    "                          RL=1.0,RGS=1.0,G_tot=200,\n",
    "                          y0_in=None,\n",
    "                          G0=100,Ga_GTP0=0,Ga_GDP0=0,Ga_nf0=0,Eff0=30,Ga_GTP_Eff0=0,\n",
    "                          G_mut0=100,Ga_GTP_mut0=0,Ga_GDP_mut0=0,Ga_nf_mut0=0,Ga_GTP_Eff_mut0=0,\n",
    "                          RGS0=40,Ga_GTP_RGS0=0,Ga_GTP_RGS_mut0=0,\n",
    "                          Eff_GAP0=30,Ga_GTP_Eff_GAP0=0,Ga_GTP_Eff_GAP_mut0=0,Ga_GTP_bg0=0,Ga_GTP_bg_mut0=0,\n",
    "                          t_end=1000,dt=0.1):\n",
    "    def fmut(t,y):\n",
    "        G = y[0]\n",
    "        Ga_GTP = y[1]\n",
    "        Ga_GDP = y[2]\n",
    "        Ga_nf = y[3]\n",
    "        Eff = y[4]\n",
    "        Ga_GTP_Eff = y[5]\n",
    "\n",
    "        G_mut = y[6]\n",
    "        Ga_GTP_mut = y[7]\n",
    "        Ga_GDP_mut = y[8]\n",
    "        Ga_nf_mut = y[9]\n",
    "        Ga_GTP_Eff_mut = y[10]\n",
    "        \n",
    "        Eff_GAP = y[11]\n",
    "        Ga_GTP_Eff_GAP = y[12]\n",
    "        Ga_GTP_Eff_GAP_mut = y[13]\n",
    "        \n",
    "        Ga_GTP_bg = y[14]\n",
    "        Ga_GTP_bg_mut = y[15]\n",
    "        \n",
    "        RGS = y[16]\n",
    "        Ga_GTP_RGS = y[17]\n",
    "        Ga_GTP_RGS_mut = y[18]\n",
    "\n",
    "        Gbg = G_tot-G-G_mut\n",
    "        \n",
    "        R0 = k_dG1*G - k_G1*Ga_GDP*Gbg\n",
    "        R0_mut = k_dG1*G_mut - k_G1_mut*Ga_GDP_mut*Gbg\n",
    "        R00 = k_dG2*Ga_GTP_bg - k_G2*Ga_GTP*Gbg\n",
    "        R00_mut = k_dG2*Ga_GTP_bg_mut - k_G2_mut*Ga_GTP_mut*Gbg\n",
    "        \n",
    "        R1 = k_cat1*RL*G/(K_m1*(1+G_mut/K_m1)+G)\n",
    "        R1_mut = k_cat1*RL*G_mut/(K_m1*(1+G/K_m1)+G_mut) \n",
    "        \n",
    "        R2 = k_hyd*Ga_GTP\n",
    "        R2_mut = k_hyd_mut*Ga_GTP_mut\n",
    "        R3 = k_hyd*Ga_GTP_Eff\n",
    "        R3_mut = k_hyd_mut*Ga_GTP_Eff_mut\n",
    "        R4 = k_hyd*Ga_GTP_Eff_GAP\n",
    "        R4_mut = k_hyd_mut*Ga_GTP_Eff_GAP_mut\n",
    "        \n",
    "        R5 = k_dt1*Ga_GTP_Eff_GAP - k_at1*Ga_GTP*Eff_GAP\n",
    "        R5_mut = k_dt1*Ga_GTP_Eff_GAP_mut - k_at1_mut*Ga_GTP_mut*Eff_GAP\n",
    "        R6 = k_dt2*Ga_GTP_Eff - k_at2*Ga_GTP*Eff\n",
    "        R6_mut = k_dt2*Ga_GTP_Eff_mut - k_at2_mut*Ga_GTP_mut*Eff\n",
    "        \n",
    "        R7 = kd_gtp*Ga_GTP - ka_gtp*GTP*Ga_nf\n",
    "        R7_mut = kd_gtp*Ga_GTP_mut - ka_gtp*GTP*Ga_nf_mut\n",
    "        R8 = kd_gdp*Ga_GDP - ka_gdp*GDP*Ga_nf\n",
    "        R8_mut = kd_gdp*Ga_GDP_mut - ka_gdp*GDP*Ga_nf_mut\n",
    "        \n",
    "#         R9 = k_cat2*RGS*Ga_GTP/(K_m2*(1+Ga_GTP_mut/K_m2_mut)+Ga_GTP)\n",
    "#         R9_mut = k_cat2_mut*RGS*Ga_GTP_mut/(K_m2_mut*(1+Ga_GTP/K_m2)+Ga_GTP_mut)\n",
    "        R9 = k_dt3*Ga_GTP_RGS - k_at3*Ga_GTP*RGS\n",
    "        R9_mut = k_dt3*Ga_GTP_RGS_mut - k_at3_mut*Ga_GTP_mut*RGS\n",
    "        R99 = k_cat2*Ga_GTP_RGS\n",
    "        R99_mut = k_cat2_mut*Ga_GTP_RGS_mut\n",
    "        R999 = k_hyd*Ga_GTP_RGS\n",
    "        R999_mut = k_hyd_mut*Ga_GTP_RGS_mut\n",
    "        \n",
    "        R10 = k_hyd2*Ga_GTP_Eff_GAP\n",
    "        R10_mut = k_hyd2_mut*Ga_GTP_Eff_GAP_mut\n",
    "        \n",
    "        res_0 =  - R0 - R1 #G\n",
    "        res_1 = R1 - R2 + R5 + R6 - R7 + R00 + R9 #GaGTP\n",
    "        res_2 = R0 + R2 + R3 + R4 + R10 - R8 + R99 + R999 #GaGDP\n",
    "        res_3 = R7 + R8 #GaNF\n",
    "        res_4 = R6 + R6_mut + R3 + R3_mut #Eff\n",
    "        res_5 = - R6 - R3 #GaGTP-Eff\n",
    "        \n",
    "        res_6 = - R0_mut - R1_mut #G_mut\n",
    "        res_7 = R1_mut - R2_mut + R5_mut + R6_mut - R7_mut + R00_mut + R9_mut #GaGTP_mut\n",
    "        res_8 = R0_mut + R2_mut + R3_mut + R4_mut + R10_mut - R8_mut + R99_mut + R999_mut #GaGDP_mut\n",
    "        res_9 = R7_mut + R8_mut #GaNF_mut\n",
    "        res_10 = - R6_mut - R3_mut #GaGTP-Eff_mut\n",
    "        \n",
    "        res_11 = R5 + R5_mut + R10 + R10_mut + R4 + R4_mut #EffGAP\n",
    "        res_12 = - R5 - R4 - R10 #GaGTP-EffGAP\n",
    "        res_13 = - R5_mut - R4_mut - R10_mut #GaGTP-EffGAP_mut\n",
    "        \n",
    "        res_14 = - R00 #GaGTPbg\n",
    "        res_15 = - R00_mut #GaGTPbg_mut\n",
    "                                                                                   \n",
    "        res_16 = R9 + R9_mut + R99 + R99_mut + R999 + R999_mut #RGS\n",
    "        res_17 = - R9 - R99 - R999 #GaGTP-RGS\n",
    "        res_18 = - R9_mut - R99_mut - R999_mut #GaGTP-RGS_mut\n",
    "\n",
    "        return [res_0,res_1,res_2,res_3,res_4,res_5,res_6,res_7,res_8,res_9,res_10,\n",
    "                res_11,res_12,res_13,res_14,res_15,res_16,res_17,res_18]\n",
    "    \n",
    "    if y0_in is None:\n",
    "        y0, t0 = [G0,Ga_GTP0,Ga_GDP0,Ga_nf0,Eff0,Ga_GTP_Eff0,G_mut0,Ga_GTP_mut0,Ga_GDP_mut0,Ga_nf_mut0,Ga_GTP_Eff_mut0,Eff_GAP0,Ga_GTP_Eff_GAP0,\n",
    "                 Ga_GTP_Eff_GAP_mut0,Ga_GTP_bg0,Ga_GTP_bg_mut0,RGS0,Ga_GTP_RGS0,Ga_GTP_RGS_mut0], 0\n",
    "    else:\n",
    "        y0, t0 = y0_in, 0\n",
    "    r = scipy.integrate.ode(fmut).set_integrator('lsoda', method='bdf', with_jacobian=False)\n",
    "    r.set_initial_value(y0, t0)\n",
    "    \n",
    "    t_vec = []\n",
    "    G_vec = []\n",
    "    Ga_GTP_vec = []\n",
    "    Ga_GDP_vec = []\n",
    "    Ga_nf_vec = []\n",
    "    Eff_vec = []\n",
    "    Ga_GTP_Eff_vec = []\n",
    "\n",
    "    G_mut_vec = []\n",
    "    Ga_GTP_mut_vec = []\n",
    "    Ga_GDP_mut_vec = []\n",
    "    Ga_nf_mut_vec = []\n",
    "    Ga_GTP_Eff_mut_vec = []\n",
    "    \n",
    "    Eff_GAP_vec = []\n",
    "    Ga_GTP_Eff_GAP_vec = []\n",
    "    Ga_GTP_Eff_GAP_mut_vec = []\n",
    "    \n",
    "    Ga_GTP_bg_vec = []\n",
    "    Ga_GTP_bg_mut_vec = []\n",
    "                                                                                   \n",
    "    RGS_vec = []\n",
    "    Ga_GTP_RGS_vec = []\n",
    "    Ga_GTP_RGS_mut_vec = []\n",
    "    \n",
    "    count = 1\n",
    "    dmet = 1.0\n",
    "    yprev = y0\n",
    "    wtol = 1e-30\n",
    "\n",
    "    while r.successful() and r.t < t_end and numpy.dot(dmet,dmet)>wtol:\n",
    "        t_vec.append(r.t)\n",
    "        G_vec.append(r.y[0])\n",
    "        Ga_GTP_vec.append(r.y[1])\n",
    "        Ga_GDP_vec.append(r.y[2])\n",
    "        Ga_nf_vec.append(r.y[3])\n",
    "        Eff_vec.append(r.y[4])\n",
    "        Ga_GTP_Eff_vec.append(r.y[5])\n",
    "        G_mut_vec.append(r.y[6])\n",
    "        Ga_GTP_mut_vec.append(r.y[7])\n",
    "        Ga_GDP_mut_vec.append(r.y[8])\n",
    "        Ga_nf_mut_vec.append(r.y[9])\n",
    "        Ga_GTP_Eff_mut_vec.append(r.y[10])\n",
    "        Eff_GAP_vec.append(r.y[11])\n",
    "        Ga_GTP_Eff_GAP_vec.append(r.y[12])\n",
    "        Ga_GTP_Eff_GAP_mut_vec.append(r.y[13])\n",
    "        Ga_GTP_bg_vec.append(r.y[14])\n",
    "        Ga_GTP_bg_mut_vec.append(r.y[15])\n",
    "        RGS_vec.append(r.y[16])\n",
    "        Ga_GTP_RGS_vec.append(r.y[17])\n",
    "        Ga_GTP_RGS_mut_vec.append(r.y[18])\n",
    "        r.integrate(r.t+dt)\n",
    "        dmet = r.y - yprev\n",
    "        #print(numpy.dot(dmet,dmet))\n",
    "        yprev = r.y\n",
    "        count=count+1\n",
    "        \n",
    "        if r.t>=t_end:\n",
    "            print('Reached the end!')\n",
    "        \n",
    "    return [t_vec,G_vec,Ga_GTP_vec,Ga_GDP_vec,Ga_nf_vec,Eff_vec,Ga_GTP_Eff_vec,G_mut_vec,Ga_GTP_mut_vec,\n",
    "            Ga_GDP_mut_vec,Ga_nf_mut_vec,Ga_GTP_Eff_mut_vec,Eff_GAP_vec,Ga_GTP_Eff_GAP_vec,Ga_GTP_Eff_GAP_mut_vec,\n",
    "            Ga_GTP_bg_vec,Ga_GTP_bg_mut_vec,RGS_vec,Ga_GTP_RGS_vec,Ga_GTP_RGS_mut_vec]"
   ]
  },
  {
   "cell_type": "code",
   "execution_count": 5,
   "metadata": {},
   "outputs": [],
   "source": [
    "#Standard heterozygous or homozygous, testing\n",
    "total_g=100\n",
    "g_wt_het=total_g*0.75\n",
    "g_mut_het=total_g*0.25\n",
    "g_wt_hom=total_g*0.5\n",
    "g_mut_hom=total_g*0.5\n",
    "RL_base = 0.3 #baseline: 0.3 with agonist: 0.3*6\n",
    "total_eff = 10 \n",
    "total_effg = 100 \n",
    "khyd_plcb_wt = 10.0 "
   ]
  },
  {
   "cell_type": "code",
   "execution_count": 6,
   "metadata": {},
   "outputs": [],
   "source": [
    "# Model with RGS as explicit species, standard heterozygous\n",
    "#WT\n",
    "params_dic_WT = {'G_tot':total_g,'G0':total_g,'G_mut0':0,\n",
    "                 'Eff0':total_eff,'Eff_GAP0':total_effg,\n",
    "                 'RL':RL_base,'RGS0':40,\n",
    "                 'K_m1':250.0,\n",
    "                 'k_at3':0.498/6,\n",
    "                 'k_hyd2':khyd_plcb_wt,\n",
    "                 't_end':50000,'dt':0.1}\n",
    "\n",
    "#Q209L (quantification of Maziarz data)\n",
    "params_dic_QL = {'G_tot':total_g,'G0':g_wt_het,'G_mut0':g_mut_het,\n",
    "                 'Eff0':total_eff,'Eff_GAP0':total_effg,\n",
    "                 'RL':RL_base,'RGS0':40,\n",
    "                 'K_m1':250.0,\n",
    "                 'k_at3':0.498/6,'k_at3_mut':0.498*1.33/6,\n",
    "                 'k_hyd2':khyd_plcb_wt,\n",
    "                 'k_cat2_mut':0.013/140,\n",
    "                 'k_hyd2_mut':0.013/140,\n",
    "                 'k_at1_mut':0.498*0.95,'k_at2_mut':0.498*1.1,'k_hyd_mut':0.013/140,\n",
    "                 't_end':50000,'dt':0.1}\n",
    "#Q209P (quantification of Maziarz data)\n",
    "params_dic_QP = {'G_tot':total_g,'G0':g_wt_het,'G_mut0':g_mut_het,\n",
    "                 'Eff0':total_eff,'Eff_GAP0':total_effg,\n",
    "                 'RL':RL_base,'RGS0':40,\n",
    "                 'K_m1':250.0,\n",
    "                 'k_at3':0.498/6,'k_at3_mut':0.498*0.66/6,\n",
    "                 'k_hyd2':khyd_plcb_wt,\n",
    "                 'k_cat2_mut':0.013/140,\n",
    "                 'k_hyd2_mut':0.013/140,\n",
    "                 'k_at1_mut':0.498*0.66,'k_at2_mut':0.498*0.66,'k_hyd_mut':0.013/140,\n",
    "                 't_end':50000,'dt':0.1}\n",
    "\n",
    "\n",
    "# Standard\n",
    "#CYSLTR2\n",
    "params_dic_CY = {'G_tot':total_g,'G0':total_g,'G_mut0':0,\n",
    "                 'Eff0':total_eff,'Eff_GAP0':total_effg,\n",
    "                 'RL':(RL_base/2.0)+(RL_base/2.0)*(204/15.0),'RGS0':40,\n",
    "                 'K_m1':250.0,\n",
    "                 'k_at3':0.498/6,\n",
    "                 'k_hyd2':khyd_plcb_wt,\n",
    "                 't_end':50000,'dt':0.1}\n",
    "\n",
    "#R183C heterozygous\n",
    "params_dic_RQ = {'G_tot':total_g,'G0':g_wt_het,'G_mut0':g_mut_het,\n",
    "                 'Eff0':total_eff,'Eff_GAP0':total_effg,\n",
    "                 'RL':RL_base,'RGS0':40,\n",
    "                 'K_m1':500/2.0,\n",
    "                 'k_at3':0.498/6,'k_at3_mut':0.498/6,\n",
    "                 'k_hyd2':khyd_plcb_wt,\n",
    "                 'k_cat2_mut':0.013*110/140,\n",
    "                 'k_hyd2_mut':0.013*7/140,\n",
    "                 'k_at1_mut':0.498,'k_at2_mut':0.498,'k_hyd_mut':0.013/140,\n",
    "                 't_end':50000,'dt':0.1}"
   ]
  },
  {
   "cell_type": "code",
   "execution_count": 7,
   "metadata": {},
   "outputs": [],
   "source": [
    "# With agonist - to run with agonist condition, uncomment this cell and run section\n",
    "# RL_base = 0.3*6\n",
    "# params_dic_WT['RL'] = RL_base\n",
    "# params_dic_QL['RL'] = RL_base\n",
    "# params_dic_QP['RL'] = RL_base"
   ]
  },
  {
   "cell_type": "code",
   "execution_count": 8,
   "metadata": {},
   "outputs": [],
   "source": [
    "# Homozygous - to run heterozygous condition, uncomment this cell and run section\n",
    "# params_dic_WT['G0'] = g_wt_hom\n",
    "# params_dic_QL['G0'] = g_wt_hom\n",
    "# params_dic_QP['G0'] = g_wt_hom\n",
    "# params_dic_RQ['G0'] = g_wt_hom\n",
    "\n",
    "# params_dic_WT['G_mut0'] = g_mut_hom\n",
    "# params_dic_QL['G_mut0'] = g_mut_hom\n",
    "# params_dic_QP['G_mut0'] = g_mut_hom\n",
    "# params_dic_RQ['G_mut0'] = g_mut_hom\n",
    "\n",
    "# params_dic_CY['RL'] = RL_base*(204/15.0)"
   ]
  },
  {
   "cell_type": "code",
   "execution_count": 9,
   "metadata": {},
   "outputs": [],
   "source": [
    "def check_conservation():\n",
    "    #Conservation checks\n",
    "    print('WT Gq:',G_vec[-1]+Ga_GTP_vec[-1]+Ga_GDP_vec[-1]+Ga_nf_vec[-1]+Ga_GTP_Eff_vec[-1]+Ga_GTP_Eff_GAP_vec[-1]+Ga_GTP_RGS_vec[-1])\n",
    "    print('WT Gq:',G_vec[-1],Ga_GTP_vec[-1],Ga_GDP_vec[-1],Ga_nf_vec[-1],Ga_GTP_Eff_vec[-1],Ga_GTP_Eff_GAP_vec[-1],Ga_GTP_RGS_vec[-1])\n",
    "    print('MUT Gq:',G_mut_vec[-1]+Ga_GTP_mut_vec[-1]+Ga_GDP_mut_vec[-1]+Ga_nf_mut_vec[-1]+Ga_GTP_Eff_mut_vec[-1]+Ga_GTP_Eff_GAP_mut_vec[-1]+Ga_GTP_RGS_mut_vec[-1])\n",
    "    print('MUT Gq:',G_mut_vec[-1],Ga_GTP_mut_vec[-1],Ga_GDP_mut_vec[-1],Ga_nf_mut_vec[-1],Ga_GTP_Eff_mut_vec[-1],Ga_GTP_Eff_GAP_mut_vec[-1],+Ga_GTP_RGS_mut_vec[-1])\n",
    "    print('Effector:',Eff_vec[-1]+Ga_GTP_Eff_vec[-1]+Ga_GTP_Eff_mut_vec[-1])\n",
    "    print('Effector:',Eff_vec[-1],Ga_GTP_Eff_vec[-1],Ga_GTP_Eff_mut_vec[-1])\n",
    "    print('Effector GAP:',Eff_GAP_vec[-1]+Ga_GTP_Eff_GAP_vec[-1]+Ga_GTP_Eff_GAP_mut_vec[-1])\n",
    "    print('Effector GAP:',Eff_GAP_vec[-1],Ga_GTP_Eff_GAP_vec[-1],Ga_GTP_Eff_GAP_mut_vec[-1])\n",
    "    print('RGS:',RGS_vec[-1]+Ga_GTP_RGS_vec[-1]+Ga_GTP_RGS_mut_vec[-1])\n",
    "    print('RGS:',RGS_vec[-1],Ga_GTP_RGS_vec[-1],Ga_GTP_RGS_mut_vec[-1])"
   ]
  },
  {
   "cell_type": "code",
   "execution_count": 10,
   "metadata": {
    "collapsed": false,
    "jupyter": {
     "outputs_hidden": false
    }
   },
   "outputs": [
    {
     "name": "stdout",
     "output_type": "stream",
     "text": [
      "CPU times: user 109 ms, sys: 5.15 ms, total: 114 ms\n",
      "Wall time: 113 ms\n"
     ]
    }
   ],
   "source": [
    "%%time\n",
    "#WT\n",
    "[t_vec,G_vec,Ga_GTP_vec,Ga_GDP_vec,Ga_nf_vec,Eff_vec,Ga_GTP_Eff_vec,G_mut_vec,Ga_GTP_mut_vec,\n",
    " Ga_GDP_mut_vec,Ga_nf_mut_vec,Ga_GTP_Eff_mut_vec,Eff_GAP_vec,Ga_GTP_Eff_GAP_vec,Ga_GTP_Eff_GAP_mut_vec,\n",
    " Ga_GTP_bg_vec,Ga_GTP_bg_mut_vec,RGS_vec,Ga_GTP_RGS_vec,Ga_GTP_RGS_mut_vec] = gnaq_wt_and_mut_basal(**params_dic_WT)"
   ]
  },
  {
   "cell_type": "code",
   "execution_count": 11,
   "metadata": {},
   "outputs": [],
   "source": [
    "#WT\n",
    "WT_active_trio_wt = Ga_GTP_Eff_vec[-1]\n",
    "WT_active_trio_mut =Ga_GTP_Eff_mut_vec[-1]\n",
    "WT_active_plcb_wt = Ga_GTP_Eff_GAP_vec[-1]\n",
    "WT_active_plcb_mut = Ga_GTP_Eff_GAP_mut_vec[-1]\n",
    "WT_hetG_wt = G_vec[-1]\n",
    "WT_hetG_mut = G_mut_vec[-1]\n",
    "WT_GaGTP_wt = Ga_GTP_vec[-1]\n",
    "WT_GaGTP_mut = Ga_GTP_mut_vec[-1]\n",
    "WT_GaGDP_wt = Ga_GDP_vec[-1]\n",
    "WT_GaGDP_mut = Ga_GDP_mut_vec[-1]"
   ]
  },
  {
   "cell_type": "code",
   "execution_count": 12,
   "metadata": {
    "collapsed": false,
    "jupyter": {
     "outputs_hidden": false
    }
   },
   "outputs": [
    {
     "name": "stdout",
     "output_type": "stream",
     "text": [
      "WT Gq: 99.99999999999991\n",
      "WT Gq: 96.1827435174902 0.01610956002688345 3.471341602255969 5.5793341830575665e-05 0.24990645115589916 0.07773029121925994 0.002112784509890388\n",
      "MUT Gq: 0.0\n",
      "MUT Gq: 0.0 0.0 0.0 0.0 0.0 0.0 0.0\n",
      "Effector: 10.000000000000002\n",
      "Effector: 9.750093548844102 0.24990645115589916 0.0\n",
      "Effector GAP: 100.0\n",
      "Effector GAP: 99.92226970878075 0.07773029121925994 0.0\n",
      "RGS: 39.99999999999993\n",
      "RGS: 39.99788721549004 0.002112784509890388 0.0\n"
     ]
    }
   ],
   "source": [
    "#Conservation checks\n",
    "check_conservation()"
   ]
  },
  {
   "cell_type": "code",
   "execution_count": 13,
   "metadata": {
    "collapsed": false,
    "jupyter": {
     "outputs_hidden": false
    }
   },
   "outputs": [
    {
     "name": "stdout",
     "output_type": "stream",
     "text": [
      "CPU times: user 490 ms, sys: 47.5 ms, total: 537 ms\n",
      "Wall time: 518 ms\n"
     ]
    }
   ],
   "source": [
    "%%time\n",
    "#Q209L\n",
    "[t_vec,G_vec,Ga_GTP_vec,Ga_GDP_vec,Ga_nf_vec,Eff_vec,Ga_GTP_Eff_vec,G_mut_vec,Ga_GTP_mut_vec,\n",
    " Ga_GDP_mut_vec,Ga_nf_mut_vec,Ga_GTP_Eff_mut_vec,Eff_GAP_vec,Ga_GTP_Eff_GAP_vec,Ga_GTP_Eff_GAP_mut_vec,\n",
    " Ga_GTP_bg_vec,Ga_GTP_bg_mut_vec,RGS_vec,Ga_GTP_RGS_vec,Ga_GTP_RGS_mut_vec] = gnaq_wt_and_mut_basal(**params_dic_QL)"
   ]
  },
  {
   "cell_type": "code",
   "execution_count": 14,
   "metadata": {},
   "outputs": [],
   "source": [
    "#Q209L\n",
    "QL_active_trio_wt = Ga_GTP_Eff_vec[-1]\n",
    "QL_active_trio_mut =Ga_GTP_Eff_mut_vec[-1]\n",
    "QL_active_plcb_wt = Ga_GTP_Eff_GAP_vec[-1]\n",
    "QL_active_plcb_mut = Ga_GTP_Eff_GAP_mut_vec[-1]\n",
    "QL_hetG_wt = G_vec[-1]\n",
    "QL_hetG_mut = G_mut_vec[-1]\n",
    "QL_GaGTP_wt = Ga_GTP_vec[-1]\n",
    "QL_GaGTP_mut = Ga_GTP_mut_vec[-1]\n",
    "QL_GaGDP_wt = Ga_GDP_vec[-1]\n",
    "QL_GaGDP_mut = Ga_GDP_mut_vec[-1]"
   ]
  },
  {
   "cell_type": "code",
   "execution_count": 15,
   "metadata": {
    "collapsed": false,
    "jupyter": {
     "outputs_hidden": false
    }
   },
   "outputs": [
    {
     "name": "stdout",
     "output_type": "stream",
     "text": [
      "WT Gq: 75.00000000000016\n",
      "WT Gq: 74.29439968293028 0.016368519685245803 0.4259809011241258 6.855193119804836e-06 0.19800749043737212 0.06320799129054391 0.0020285593394769393\n",
      "MUT Gq: 25.00000000000002\n",
      "MUT Gq: 0.4693509936292203 0.15843914849086788 0.002691112122431233 1.3781442484995518e-07 2.1989536660515814 19.96841923800609 2.2021457038854053\n",
      "Effector: 9.999999999999998\n",
      "Effector: 7.603038843511045 0.19800749043737212 2.1989536660515814\n",
      "Effector GAP: 100.0\n",
      "Effector GAP: 79.96837277070337 0.06320799129054391 19.96841923800609\n",
      "RGS: 40.000000000000064\n",
      "RGS: 37.79582573677518 0.0020285593394769393 2.2021457038854053\n"
     ]
    }
   ],
   "source": [
    "#Conservation checks\n",
    "check_conservation()"
   ]
  },
  {
   "cell_type": "code",
   "execution_count": 16,
   "metadata": {
    "collapsed": false,
    "jupyter": {
     "outputs_hidden": false
    }
   },
   "outputs": [
    {
     "name": "stdout",
     "output_type": "stream",
     "text": [
      "CPU times: user 367 ms, sys: 32.3 ms, total: 399 ms\n",
      "Wall time: 386 ms\n"
     ]
    }
   ],
   "source": [
    "%%time\n",
    "#Q209P\n",
    "[t_vec,G_vec,Ga_GTP_vec,Ga_GDP_vec,Ga_nf_vec,Eff_vec,Ga_GTP_Eff_vec,G_mut_vec,Ga_GTP_mut_vec,\n",
    " Ga_GDP_mut_vec,Ga_nf_mut_vec,Ga_GTP_Eff_mut_vec,Eff_GAP_vec,Ga_GTP_Eff_GAP_vec,Ga_GTP_Eff_GAP_mut_vec,\n",
    " Ga_GTP_bg_vec,Ga_GTP_bg_mut_vec,RGS_vec,Ga_GTP_RGS_vec,Ga_GTP_RGS_mut_vec] = gnaq_wt_and_mut_basal(**params_dic_QP)"
   ]
  },
  {
   "cell_type": "code",
   "execution_count": 17,
   "metadata": {},
   "outputs": [],
   "source": [
    "#Q209P\n",
    "QP_active_trio_wt = Ga_GTP_Eff_vec[-1]\n",
    "QP_active_trio_mut =Ga_GTP_Eff_mut_vec[-1]\n",
    "QP_active_plcb_wt = Ga_GTP_Eff_GAP_vec[-1]\n",
    "QP_active_plcb_mut = Ga_GTP_Eff_GAP_mut_vec[-1]\n",
    "QP_hetG_wt = G_vec[-1]\n",
    "QP_hetG_mut = G_mut_vec[-1]\n",
    "QP_GaGTP_wt = Ga_GTP_vec[-1]\n",
    "QP_GaGTP_mut = Ga_GTP_mut_vec[-1]\n",
    "QP_GaGDP_wt = Ga_GDP_vec[-1]\n",
    "QP_GaGDP_mut = Ga_GDP_mut_vec[-1]"
   ]
  },
  {
   "cell_type": "code",
   "execution_count": 18,
   "metadata": {
    "collapsed": false,
    "jupyter": {
     "outputs_hidden": false
    }
   },
   "outputs": [
    {
     "name": "stdout",
     "output_type": "stream",
     "text": [
      "WT Gq: 74.9999999999999\n",
      "WT Gq: 74.28872761675564 0.01647026869226347 0.4258740059256263 6.85353606827374e-06 0.20375929834352732 0.06309151132710758 0.0020704454196894535\n",
      "MUT Gq: 24.999999999999936\n",
      "MUT Gq: 0.4703338583979611 0.23727285569961637 0.002696276623074921 1.849515124964711e-07 2.020679447107577 20.609015063064632 1.660002314155561\n",
      "Effector: 9.999999999999988\n",
      "Effector: 7.775561254548883 0.20375929834352732 2.020679447107577\n",
      "Effector GAP: 100.00000000000001\n",
      "Effector GAP: 79.32789342560828 0.06309151132710758 20.609015063064632\n",
      "RGS: 40.00000000000003\n",
      "RGS: 38.337927240424776 0.0020704454196894535 1.660002314155561\n"
     ]
    }
   ],
   "source": [
    "#Conservation checks\n",
    "check_conservation()"
   ]
  },
  {
   "cell_type": "code",
   "execution_count": 19,
   "metadata": {
    "collapsed": false,
    "jupyter": {
     "outputs_hidden": false
    }
   },
   "outputs": [
    {
     "name": "stdout",
     "output_type": "stream",
     "text": [
      "CPU times: user 113 ms, sys: 19.9 ms, total: 133 ms\n",
      "Wall time: 120 ms\n"
     ]
    }
   ],
   "source": [
    "%%time\n",
    "#CYSLTR2\n",
    "[t_vec,G_vec,Ga_GTP_vec,Ga_GDP_vec,Ga_nf_vec,Eff_vec,Ga_GTP_Eff_vec,G_mut_vec,Ga_GTP_mut_vec,\n",
    " Ga_GDP_mut_vec,Ga_nf_mut_vec,Ga_GTP_Eff_mut_vec,Eff_GAP_vec,Ga_GTP_Eff_GAP_vec,Ga_GTP_Eff_GAP_mut_vec,\n",
    " Ga_GTP_bg_vec,Ga_GTP_bg_mut_vec,RGS_vec,Ga_GTP_RGS_vec,Ga_GTP_RGS_mut_vec] = gnaq_wt_and_mut_basal(**params_dic_CY)"
   ]
  },
  {
   "cell_type": "code",
   "execution_count": 20,
   "metadata": {},
   "outputs": [],
   "source": [
    "#CYSLTR2\n",
    "CY_active_trio_wt = Ga_GTP_Eff_vec[-1]\n",
    "CY_active_trio_mut =Ga_GTP_Eff_mut_vec[-1]\n",
    "CY_active_plcb_wt = Ga_GTP_Eff_GAP_vec[-1]\n",
    "CY_active_plcb_mut = Ga_GTP_Eff_GAP_mut_vec[-1]\n",
    "CY_hetG_wt = G_vec[-1]\n",
    "CY_hetG_mut = G_mut_vec[-1]\n",
    "CY_GaGTP_wt = Ga_GTP_vec[-1]\n",
    "CY_GaGTP_mut = Ga_GTP_mut_vec[-1]\n",
    "CY_GaGDP_wt = Ga_GDP_vec[-1]\n",
    "CY_GaGDP_mut = Ga_GDP_mut_vec[-1]"
   ]
  },
  {
   "cell_type": "code",
   "execution_count": 21,
   "metadata": {
    "collapsed": false,
    "jupyter": {
     "outputs_hidden": false
    }
   },
   "outputs": [
    {
     "name": "stdout",
     "output_type": "stream",
     "text": [
      "WT Gq: 99.99999999999862\n",
      "WT Gq: 90.26935796206952 0.11273275197442047 7.540731626340494 0.0001212452522954473 1.5208531183857597 0.541422968092782 0.014780327883339528\n",
      "MUT Gq: 0.0\n",
      "MUT Gq: 0.0 0.0 0.0 0.0 0.0 0.0 0.0\n",
      "Effector: 10.000000000000007\n",
      "Effector: 8.479146881614248 1.5208531183857597 0.0\n",
      "Effector GAP: 100.0000000000002\n",
      "Effector GAP: 99.45857703190741 0.541422968092782 0.0\n",
      "RGS: 39.99999999999997\n",
      "RGS: 39.985219672116635 0.014780327883339528 0.0\n"
     ]
    }
   ],
   "source": [
    "#Conservation checks\n",
    "check_conservation()"
   ]
  },
  {
   "cell_type": "code",
   "execution_count": 22,
   "metadata": {
    "collapsed": false,
    "jupyter": {
     "outputs_hidden": false
    }
   },
   "outputs": [
    {
     "name": "stdout",
     "output_type": "stream",
     "text": [
      "CPU times: user 709 ms, sys: 38.1 ms, total: 747 ms\n",
      "Wall time: 736 ms\n"
     ]
    }
   ],
   "source": [
    "%%time\n",
    "#R183C\n",
    "[t_vec,G_vec,Ga_GTP_vec,Ga_GDP_vec,Ga_nf_vec,Eff_vec,Ga_GTP_Eff_vec,G_mut_vec,Ga_GTP_mut_vec,\n",
    " Ga_GDP_mut_vec,Ga_nf_mut_vec,Ga_GTP_Eff_mut_vec,Eff_GAP_vec,Ga_GTP_Eff_GAP_vec,Ga_GTP_Eff_GAP_mut_vec,\n",
    " Ga_GTP_bg_vec,Ga_GTP_bg_mut_vec,RGS_vec,Ga_GTP_RGS_vec,Ga_GTP_RGS_mut_vec] = gnaq_wt_and_mut_basal(**params_dic_RQ)"
   ]
  },
  {
   "cell_type": "code",
   "execution_count": 23,
   "metadata": {},
   "outputs": [],
   "source": [
    "#R183C\n",
    "RQ_active_trio_wt = Ga_GTP_Eff_vec[-1]\n",
    "RQ_active_trio_mut =Ga_GTP_Eff_mut_vec[-1]\n",
    "RQ_active_plcb_wt = Ga_GTP_Eff_GAP_vec[-1]\n",
    "RQ_active_plcb_mut = Ga_GTP_Eff_GAP_mut_vec[-1]\n",
    "RQ_hetG_wt = G_vec[-1]\n",
    "RQ_hetG_mut = G_mut_vec[-1]\n",
    "RQ_GaGTP_wt = Ga_GTP_vec[-1]\n",
    "RQ_GaGTP_mut = Ga_GTP_mut_vec[-1]\n",
    "RQ_GaGDP_wt = Ga_GDP_vec[-1]\n",
    "RQ_GaGDP_mut = Ga_GDP_mut_vec[-1]"
   ]
  },
  {
   "cell_type": "code",
   "execution_count": 24,
   "metadata": {
    "collapsed": false,
    "jupyter": {
     "outputs_hidden": false
    }
   },
   "outputs": [
    {
     "name": "stdout",
     "output_type": "stream",
     "text": [
      "WT Gq: 75.00000000000001\n",
      "WT Gq: 74.24556518557594 0.01593118915581142 0.4715374814918536 7.587016711711359e-06 0.2022934616471093 0.06264965228929167 0.0020154428232923515\n",
      "MUT Gq: 24.999999999999975\n",
      "MUT Gq: 3.110952655140076 0.13718306706540223 0.019757823773853794 3.993855919509796e-07 1.8168657559262298 18.499529180458357 1.4157111182504636\n",
      "Effector: 9.999999999999998\n",
      "Effector: 7.980840782426659 0.2022934616471093 1.8168657559262298\n",
      "Effector GAP: 99.9999999999998\n",
      "Effector GAP: 81.43782116725215 0.06264965228929167 18.499529180458357\n",
      "RGS: 40.000000000000014\n",
      "RGS: 38.58227343892626 0.0020154428232923515 1.4157111182504636\n"
     ]
    }
   ],
   "source": [
    "#Conservation\n",
    "check_conservation()"
   ]
  },
  {
   "cell_type": "code",
   "execution_count": 25,
   "metadata": {
    "collapsed": false,
    "jupyter": {
     "outputs_hidden": false
    }
   },
   "outputs": [
    {
     "data": {
      "image/png": "[encoded data removed]",
      "text/plain": [
       "<Figure size 360x432 with 1 Axes>"
      ]
     },
     "metadata": {
      "needs_background": "light"
     },
     "output_type": "display_data"
    }
   ],
   "source": [
    "bars1 = numpy.array([WT_active_trio_wt+WT_active_trio_mut,QL_active_trio_wt,QP_active_trio_wt])*100.0/total_eff\n",
    "bars2 = numpy.array([0,QL_active_trio_mut,QP_active_trio_mut])*100.0/total_eff\n",
    "# bars1 = numpy.array([WT_active_trio_wt+WT_active_trio_mut,QL_active_trio_wt,CY_active_trio_wt+CY_active_trio_mut])*100.0/total_eff\n",
    "# bars2 = numpy.array([0,QL_active_trio_mut,0])*100.0/total_eff\n",
    "# bars1 = numpy.array([WT_active_trio_wt+WT_active_trio_mut,QL_active_trio_wt,QP_active_trio_wt,CY_active_trio_wt+CY_active_trio_mut])*100.0/total_eff\n",
    "# bars2 = numpy.array([0,QL_active_trio_mut,QP_active_trio_mut,0])*100.0/total_eff\n",
    "bars3 = bars1 + bars2\n",
    "\n",
    "r = [0,1,2]\n",
    "# r = [0,1,2,3]\n",
    "\n",
    "names = ['WT/WT','WT/Q209L','WT/Q209P']\n",
    "# names = ['WT/WT','WT/Q209L','WT/CYSLTR2']\n",
    "#names = ['WT/WT','WT/Q209L','WT/Q209P','WT/CYSLTR2']\n",
    "# names = ['WT','Q209L','Q209P','CYSLTR2']\n",
    "barWidth = 0.5\n",
    "\n",
    "fig,ax = plt.subplots(figsize=(5,6))\n",
    "\n",
    "#ax.bar(r, bars3, color='k', edgecolor='white', width=barWidth,label='WT active TRIO',alpha=1.0)\n",
    "ax.bar(r, bars3, color=(0,1,1), edgecolor='white', width=barWidth,label='WT active TRIO',alpha=0.5)\n",
    "# plt.bar(r, bars1, color='#7f6d5f', edgecolor='white', width=barWidth,label='WT active TRIO',alpha=0.5)\n",
    "# plt.bar(r, bars2, bottom=bars1, color=(0,1,1), edgecolor='white', width=barWidth,label='mut active TRIO',alpha=0.5)\n",
    "\n",
    "plt.ylim([0,40])\n",
    "plt.xlim([-0.5,2.5])\n",
    "\n",
    "plt.xticks([0,1,2],[],size=15)#,fontweight='bold')\n",
    "\n",
    "plt.xticks(r, names,size=15)#,fontweight='bold')\n",
    "plt.yticks([0,10,20,30,40],size=25)\n",
    "\n",
    "# change all spines\n",
    "for axis in ['top','bottom','left','right']:\n",
    "    ax.spines[axis].set_linewidth(1.5)\n",
    "ax.spines['top'].set_visible(False)\n",
    "ax.spines['right'].set_visible(False)\n",
    "\n",
    "# increase tick width\n",
    "ax.tick_params(length=7,width=1.5)\n",
    "\n",
    "plt.ylabel('Active TRIO [%]',size=25)\n",
    "\n",
    "#plt.legend(loc='upper left',fontsize=15)\n",
    "plt.tight_layout()\n",
    "\n",
    "#plt.savefig('./bound_trio_bar_chart.pdf',transparent='True')\n",
    "#plt.savefig('./GNAQ_figures/bound_trio_bar_chart.svg',dpi=200,transparent='True')\n",
    "# plt.savefig('./GNAQ_figures/bound_trio_bar_chart.png',dpi=200,transparent='True')\n",
    "# plt.savefig('./GNAQ_figures/bound_trio_bar_chart_agonist.svg',dpi=200,transparent='True')"
   ]
  },
  {
   "cell_type": "code",
   "execution_count": 26,
   "metadata": {
    "collapsed": false,
    "jupyter": {
     "outputs_hidden": false
    }
   },
   "outputs": [
    {
     "data": {
      "image/png": "[encoded data removed]",
      "text/plain": [
       "<Figure size 360x432 with 1 Axes>"
      ]
     },
     "metadata": {
      "needs_background": "light"
     },
     "output_type": "display_data"
    }
   ],
   "source": [
    "bars1 = numpy.array([WT_active_plcb_wt+WT_active_plcb_mut,QL_active_plcb_wt,QP_active_plcb_wt])*100.0/total_effg\n",
    "bars2 = numpy.array([0,QL_active_plcb_mut,QP_active_plcb_mut])*100.0/total_effg\n",
    "# bars1 = numpy.array([WT_active_plcb_wt+WT_active_plcb_mut,QL_active_plcb_wt,CY_active_plcb_wt+CY_active_plcb_mut])*100.0/total_effg\n",
    "# bars2 = numpy.array([0,QL_active_plcb_mut,0])*100.0/total_effg\n",
    "# bars1 = numpy.array([WT_active_plcb_wt+WT_active_plcb_mut,QL_active_plcb_wt,QP_active_plcb_wt,CY_active_plcb_wt+CY_active_plcb_mut])*100.0/total_effg\n",
    "# bars2 = numpy.array([0,QL_active_plcb_mut,QP_active_plcb_mut,0])*100.0/total_effg\n",
    "bars3 = bars1 + bars2\n",
    "\n",
    "r = [0,1,2]\n",
    "# r = [0,1,2,3]\n",
    "\n",
    "names = ['WT/WT','WT/Q209L','WT/Q209P']\n",
    "# names = ['WT/WT','WT/Q209L','WT/CYSLTR2']\n",
    "#names = ['WT/WT','WT/Q209L','WT/Q209P','WT/CYSLTR2']\n",
    "# names = ['WT','Q209L','Q209P','CYSLTR2']\n",
    "barWidth = 0.5\n",
    "\n",
    "fig,ax = plt.subplots(figsize=(5,6))\n",
    "\n",
    "#ax.bar(r, bars3, color='k', edgecolor='white', width=barWidth,label='WT active PLCB',alpha=1.0)\n",
    "ax.bar(r, bars3, color=(1,0,165/255.0), edgecolor='white', width=barWidth,label='WT active PLCB',alpha=0.5)\n",
    "# plt.bar(r, bars1, color='#7f6d5f', edgecolor='white', width=barWidth,label='WT active PLCB',alpha=0.5)\n",
    "# plt.bar(r, bars2, bottom=bars1, color=(1,0,165/255.0), edgecolor='white', width=barWidth,label='mut active PLCB',alpha=0.5)\n",
    "\n",
    "plt.ylim([0,25])\n",
    "plt.xlim([-0.5,2.5])\n",
    "\n",
    "plt.xticks([0,1,2],[],size=15)#,fontweight='bold')\n",
    "plt.xticks(r, names,size=15)\n",
    "plt.yticks([0,5,10,15,20,25],size=25)\n",
    "\n",
    "# change all spines\n",
    "for axis in ['top','bottom','left','right']:\n",
    "    ax.spines[axis].set_linewidth(1.5)\n",
    "ax.spines['top'].set_visible(False)\n",
    "ax.spines['right'].set_visible(False)\n",
    "\n",
    "# increase tick width\n",
    "ax.tick_params(length=7,width=1.5)\n",
    "\n",
    "plt.ylabel('Active PLCB [%]',size=25)\n",
    "\n",
    "#plt.legend(loc='upper left',fontsize=15)\n",
    "plt.tight_layout()\n",
    "\n",
    "#plt.savefig('./bound_plcb_bar_chart.pdf',transparent='True')\n",
    "#plt.savefig('./GNAQ_figures/bound_plcb_bar_chart.pdf',transparent='True')\n",
    "#plt.savefig('./GNAQ_figures/bound_plcb_bar_chart.svg',dpi=200,transparent='True')\n",
    "# plt.savefig('./GNAQ_figures/bound_plcb_bar_chart.png',dpi=200,transparent='True')\n",
    "# plt.savefig('./GNAQ_figures/bound_plcb_bar_chart_agonist.svg',dpi=200,transparent='True')"
   ]
  },
  {
   "cell_type": "code",
   "execution_count": 27,
   "metadata": {},
   "outputs": [
    {
     "data": {
      "text/plain": [
       "<matplotlib.legend.Legend at 0x7ff388115220>"
      ]
     },
     "execution_count": 27,
     "metadata": {},
     "output_type": "execute_result"
    },
    {
     "data": {
      "image/png": "[encoded data removed]",
      "text/plain": [
       "<Figure size 432x288 with 1 Axes>"
      ]
     },
     "metadata": {
      "needs_background": "light"
     },
     "output_type": "display_data"
    }
   ],
   "source": [
    "bars1 = numpy.array([WT_active_trio_wt+WT_active_trio_mut,QL_active_trio_wt,QP_active_trio_wt,RQ_active_trio_wt,CY_active_trio_wt+CY_active_trio_mut])*100.0/total_eff\n",
    "bars2 = numpy.array([0,QL_active_trio_mut,QP_active_trio_mut,RQ_active_trio_mut,0])*100.0/total_eff\n",
    "\n",
    "r = [0,1,2,3,4]\n",
    "\n",
    "names = ['WT/WT','WT/Q209L','WT/Q209P','WT/R183C','WT/CYSLTR2']\n",
    "#names = ['WT','Q209L','Q209P','R183C','CYSLTR2']\n",
    "barWidth = 0.35\n",
    "\n",
    "plt.bar(r, bars1, color='#7f6d5f', edgecolor='white', width=barWidth,label='WT active TRIO',alpha=0.5)\n",
    "plt.bar(r, bars2, bottom=bars1, color=(1,0,165/255.0), edgecolor='white', width=barWidth,label='mut active TRIO',alpha=0.5)\n",
    "\n",
    "plt.ylim([0,60])\n",
    "plt.xlim([-0.25,4.3])\n",
    "\n",
    "plt.xticks(r, names,size=12)#,fontweight='bold')\n",
    "plt.yticks([0,10,20,30,40,50,60],size=15)\n",
    "\n",
    "plt.ylabel('Active TRIO [%]',size=15)\n",
    "\n",
    "plt.legend(loc='upper left',fontsize=15)\n",
    "\n",
    "#plt.savefig('./bound_trio_bar_chart.pdf',transparent='True')"
   ]
  },
  {
   "cell_type": "code",
   "execution_count": 28,
   "metadata": {},
   "outputs": [
    {
     "data": {
      "text/plain": [
       "<matplotlib.legend.Legend at 0x7ff3a8319b50>"
      ]
     },
     "execution_count": 28,
     "metadata": {},
     "output_type": "execute_result"
    },
    {
     "data": {
      "image/png": "[encoded data removed]",
      "text/plain": [
       "<Figure size 432x288 with 1 Axes>"
      ]
     },
     "metadata": {
      "needs_background": "light"
     },
     "output_type": "display_data"
    }
   ],
   "source": [
    "bars1 = numpy.array([WT_active_plcb_wt+WT_active_plcb_mut,QL_active_plcb_wt,QP_active_plcb_wt,RQ_active_plcb_wt,CY_active_plcb_wt+CY_active_plcb_mut])*100.0/total_effg\n",
    "bars2 = numpy.array([0,QL_active_plcb_mut,QP_active_plcb_mut,RQ_active_plcb_mut,0])*100.0/total_effg\n",
    "\n",
    "r = [0,1,2,3,4]\n",
    "\n",
    "names = ['WT/WT','WT/Q209L','WT/Q209P','WT/R183C','WT/CYSLTR2']\n",
    "#names = ['WT','Q209L','Q209P','R183C','CYSLTR2']\n",
    "barWidth = 0.35\n",
    "\n",
    "plt.bar(r, bars1, color='#7f6d5f', edgecolor='white', width=barWidth,label='WT active PLCB',alpha=0.5)\n",
    "plt.bar(r, bars2, bottom=bars1, color=(1,0,165/255.0), edgecolor='white', width=barWidth,label='mut active PLCB',alpha=0.5)\n",
    "\n",
    "plt.ylim([0,55])\n",
    "plt.xlim([-0.25,4.3])\n",
    "\n",
    "plt.xticks(r, names,size=12)\n",
    "plt.yticks([0,10,20,30,40,50],size=15)\n",
    "\n",
    "plt.ylabel('Active PLCB [%]',size=15)\n",
    "\n",
    "plt.legend(loc='upper left',fontsize=15)\n",
    "\n",
    "#plt.savefig('./bound_plcb_bar_chart.pdf',transparent='True')"
   ]
  },
  {
   "cell_type": "markdown",
   "metadata": {},
   "source": [
    "## Updated parameter set"
   ]
  },
  {
   "cell_type": "code",
   "execution_count": 29,
   "metadata": {},
   "outputs": [
    {
     "name": "stdout",
     "output_type": "stream",
     "text": [
      "WT Gq: 100.00000000000001\n",
      "WT Gq: 93.93398571970751 0.03535123778386183 2.1440282271325035 3.447518115645392e-05 0.5325061891757252 3.3494580941890377 0.004636056830229067\n",
      "MUT Gq: 0.0\n",
      "MUT Gq: 0.0 0.0 0.0 0.0 0.0 0.0 0.0\n",
      "Effector: 10.000000000000004\n",
      "Effector: 9.467493810824278 0.5325061891757252 0.0\n",
      "Effector GAP: 100.00000000000007\n",
      "Effector GAP: 96.65054190581104 3.3494580941890377 0.0\n",
      "RGS: 40.00000000000002\n",
      "RGS: 39.99536394316979 0.004636056830229067 0.0\n",
      "WT Gq: 75.00000000000027\n",
      "WT Gq: 71.60497313807214 0.034057536557909836 0.3730940334619674 6.0158705090406355e-06 0.2887929425887908 2.69498277339607 0.004093560052887039\n",
      "MUT Gq: 25.00000000000003\n",
      "MUT Gq: 0.44332959636970637 0.2477131386462773 0.0023099461639356925 1.8497483745531882e-07 4.381684076580928 16.585764714993292 3.3391983422710503\n",
      "Effector: 9.99999999999998\n",
      "Effector: 5.329522980830261 0.2887929425887908 4.381684076580928\n",
      "Effector GAP: 100.0000000000004\n",
      "Effector GAP: 80.71925251161105 2.69498277339607 16.585764714993292\n",
      "RGS: 39.999999999999915\n",
      "RGS: 36.65670809767598 0.004093560052887039 3.3391983422710503\n",
      "WT Gq: 74.9999999999996\n",
      "WT Gq: 71.52097404055576 0.03513540550208303 0.3718994116583638 5.99731654508726e-06 0.4223360593424751 2.6452380830484588 0.004411002575914331\n",
      "MUT Gq: 25.000000000000018\n",
      "MUT Gq: 0.4663227323067373 0.24445638365192573 0.0024248151662740708 1.8487687307960078e-07 2.0227731985540376 20.556009346014086 1.708013339430084\n",
      "Effector: 9.999999999999977\n",
      "Effector: 7.5548907421034635 0.4223360593424751 2.0227731985540376\n",
      "Effector GAP: 99.99999999999991\n",
      "Effector GAP: 76.79875257093737 2.6452380830484588 20.556009346014086\n",
      "RGS: 40.000000000000014\n",
      "RGS: 38.28757565799402 0.004411002575914331 1.708013339430084\n",
      "WT Gq: 100.00000000000394\n",
      "WT Gq: 74.40743891880206 0.25423536557181076 2.4741920326786264 3.991149087189863e-05 2.8800400124272096 19.950736555637715 0.03331720339562515\n",
      "MUT Gq: 0.0\n",
      "MUT Gq: 0.0 0.0 0.0 0.0 0.0 0.0 0.0\n",
      "Effector: 9.999999999999993\n",
      "Effector: 7.119959987572784 2.8800400124272096 0.0\n",
      "Effector GAP: 100.00000000000063\n",
      "Effector GAP: 80.04926344436291 19.950736555637715 0.0\n",
      "RGS: 40.00000000000005\n",
      "RGS: 39.966682796604424 0.03331720339562515 0.0\n",
      "WT Gq: 74.9999999999999\n",
      "WT Gq: 71.50161525735282 0.03401896861732904 0.40787517852389293 6.574773143942858e-06 0.4201268662526318 2.6320580615075664 0.004299092972513323\n",
      "MUT Gq: 25.000000000000036\n",
      "MUT Gq: 3.1243174688509154 0.14112785013388524 0.01782241681104656 3.7063856453560325e-07 1.8178611866547854 18.444013843762978 1.4548568631478604\n",
      "Effector: 9.999999999999993\n",
      "Effector: 7.762011947092577 0.4201268662526318 1.8178611866547854\n",
      "Effector GAP: 100.00000000000007\n",
      "Effector GAP: 78.92392809472953 2.6320580615075664 18.444013843762978\n",
      "RGS: 40.00000000000005\n",
      "RGS: 38.54084404387967 0.004299092972513323 1.4548568631478604\n"
     ]
    }
   ],
   "source": [
    "# Updated parameters based on experiments and sensitivity analysis (see below)\n",
    "khyd_plcb_update = 0.013*15\n",
    "params_dic_WT['k_hyd2'] = khyd_plcb_update\n",
    "params_dic_QL['k_hyd2'] = khyd_plcb_update\n",
    "params_dic_QP['k_hyd2'] = khyd_plcb_update\n",
    "params_dic_CY['k_hyd2'] = khyd_plcb_update\n",
    "params_dic_RQ['k_hyd2'] = khyd_plcb_update\n",
    "\n",
    "params_dic_QL['k_at1_mut'] = 0.498*0.5\n",
    "params_dic_QL['k_at2_mut'] = 0.498*2\n",
    "\n",
    "#WT\n",
    "[t_vec,G_vec,Ga_GTP_vec,Ga_GDP_vec,Ga_nf_vec,Eff_vec,Ga_GTP_Eff_vec,G_mut_vec,Ga_GTP_mut_vec,\n",
    " Ga_GDP_mut_vec,Ga_nf_mut_vec,Ga_GTP_Eff_mut_vec,Eff_GAP_vec,Ga_GTP_Eff_GAP_vec,Ga_GTP_Eff_GAP_mut_vec,\n",
    " Ga_GTP_bg_vec,Ga_GTP_bg_mut_vec,RGS_vec,Ga_GTP_RGS_vec,Ga_GTP_RGS_mut_vec] = gnaq_wt_and_mut_basal(**params_dic_WT)\n",
    "\n",
    "#WT\n",
    "WT_active_trio_wt = Ga_GTP_Eff_vec[-1]\n",
    "WT_active_trio_mut =Ga_GTP_Eff_mut_vec[-1]\n",
    "WT_active_plcb_wt = Ga_GTP_Eff_GAP_vec[-1]\n",
    "WT_active_plcb_mut = Ga_GTP_Eff_GAP_mut_vec[-1]\n",
    "WT_hetG_wt = G_vec[-1]\n",
    "WT_hetG_mut = G_mut_vec[-1]\n",
    "WT_GaGTP_wt = Ga_GTP_vec[-1]\n",
    "WT_GaGTP_mut = Ga_GTP_mut_vec[-1]\n",
    "WT_GaGDP_wt = Ga_GDP_vec[-1]\n",
    "WT_GaGDP_mut = Ga_GDP_mut_vec[-1]\n",
    "\n",
    "#Conservation checks\n",
    "check_conservation()\n",
    "\n",
    "#Q209L\n",
    "[t_vec,G_vec,Ga_GTP_vec,Ga_GDP_vec,Ga_nf_vec,Eff_vec,Ga_GTP_Eff_vec,G_mut_vec,Ga_GTP_mut_vec,\n",
    " Ga_GDP_mut_vec,Ga_nf_mut_vec,Ga_GTP_Eff_mut_vec,Eff_GAP_vec,Ga_GTP_Eff_GAP_vec,Ga_GTP_Eff_GAP_mut_vec,\n",
    " Ga_GTP_bg_vec,Ga_GTP_bg_mut_vec,RGS_vec,Ga_GTP_RGS_vec,Ga_GTP_RGS_mut_vec] = gnaq_wt_and_mut_basal(**params_dic_QL)\n",
    "\n",
    "#Q209L\n",
    "QL_active_trio_wt = Ga_GTP_Eff_vec[-1]\n",
    "QL_active_trio_mut =Ga_GTP_Eff_mut_vec[-1]\n",
    "QL_active_plcb_wt = Ga_GTP_Eff_GAP_vec[-1]\n",
    "QL_active_plcb_mut = Ga_GTP_Eff_GAP_mut_vec[-1]\n",
    "QL_hetG_wt = G_vec[-1]\n",
    "QL_hetG_mut = G_mut_vec[-1]\n",
    "QL_GaGTP_wt = Ga_GTP_vec[-1]\n",
    "QL_GaGTP_mut = Ga_GTP_mut_vec[-1]\n",
    "QL_GaGDP_wt = Ga_GDP_vec[-1]\n",
    "QL_GaGDP_mut = Ga_GDP_mut_vec[-1]\n",
    "\n",
    "#Conservation checks\n",
    "check_conservation()\n",
    "\n",
    "#Q209P\n",
    "[t_vec,G_vec,Ga_GTP_vec,Ga_GDP_vec,Ga_nf_vec,Eff_vec,Ga_GTP_Eff_vec,G_mut_vec,Ga_GTP_mut_vec,\n",
    " Ga_GDP_mut_vec,Ga_nf_mut_vec,Ga_GTP_Eff_mut_vec,Eff_GAP_vec,Ga_GTP_Eff_GAP_vec,Ga_GTP_Eff_GAP_mut_vec,\n",
    " Ga_GTP_bg_vec,Ga_GTP_bg_mut_vec,RGS_vec,Ga_GTP_RGS_vec,Ga_GTP_RGS_mut_vec] = gnaq_wt_and_mut_basal(**params_dic_QP)\n",
    "\n",
    "#Q209P\n",
    "QP_active_trio_wt = Ga_GTP_Eff_vec[-1]\n",
    "QP_active_trio_mut =Ga_GTP_Eff_mut_vec[-1]\n",
    "QP_active_plcb_wt = Ga_GTP_Eff_GAP_vec[-1]\n",
    "QP_active_plcb_mut = Ga_GTP_Eff_GAP_mut_vec[-1]\n",
    "QP_hetG_wt = G_vec[-1]\n",
    "QP_hetG_mut = G_mut_vec[-1]\n",
    "QP_GaGTP_wt = Ga_GTP_vec[-1]\n",
    "QP_GaGTP_mut = Ga_GTP_mut_vec[-1]\n",
    "QP_GaGDP_wt = Ga_GDP_vec[-1]\n",
    "QP_GaGDP_mut = Ga_GDP_mut_vec[-1]\n",
    "\n",
    "#Conservation checks\n",
    "check_conservation()\n",
    "\n",
    "#CYSLTR2\n",
    "[t_vec,G_vec,Ga_GTP_vec,Ga_GDP_vec,Ga_nf_vec,Eff_vec,Ga_GTP_Eff_vec,G_mut_vec,Ga_GTP_mut_vec,\n",
    " Ga_GDP_mut_vec,Ga_nf_mut_vec,Ga_GTP_Eff_mut_vec,Eff_GAP_vec,Ga_GTP_Eff_GAP_vec,Ga_GTP_Eff_GAP_mut_vec,\n",
    " Ga_GTP_bg_vec,Ga_GTP_bg_mut_vec,RGS_vec,Ga_GTP_RGS_vec,Ga_GTP_RGS_mut_vec] = gnaq_wt_and_mut_basal(**params_dic_CY)\n",
    "\n",
    "#CYSLTR2\n",
    "CY_active_trio_wt = Ga_GTP_Eff_vec[-1]\n",
    "CY_active_trio_mut =Ga_GTP_Eff_mut_vec[-1]\n",
    "CY_active_plcb_wt = Ga_GTP_Eff_GAP_vec[-1]\n",
    "CY_active_plcb_mut = Ga_GTP_Eff_GAP_mut_vec[-1]\n",
    "CY_hetG_wt = G_vec[-1]\n",
    "CY_hetG_mut = G_mut_vec[-1]\n",
    "CY_GaGTP_wt = Ga_GTP_vec[-1]\n",
    "CY_GaGTP_mut = Ga_GTP_mut_vec[-1]\n",
    "CY_GaGDP_wt = Ga_GDP_vec[-1]\n",
    "CY_GaGDP_mut = Ga_GDP_mut_vec[-1]\n",
    "\n",
    "#Conservation checks\n",
    "check_conservation()\n",
    "\n",
    "#R183C\n",
    "[t_vec,G_vec,Ga_GTP_vec,Ga_GDP_vec,Ga_nf_vec,Eff_vec,Ga_GTP_Eff_vec,G_mut_vec,Ga_GTP_mut_vec,\n",
    " Ga_GDP_mut_vec,Ga_nf_mut_vec,Ga_GTP_Eff_mut_vec,Eff_GAP_vec,Ga_GTP_Eff_GAP_vec,Ga_GTP_Eff_GAP_mut_vec,\n",
    " Ga_GTP_bg_vec,Ga_GTP_bg_mut_vec,RGS_vec,Ga_GTP_RGS_vec,Ga_GTP_RGS_mut_vec] = gnaq_wt_and_mut_basal(**params_dic_RQ)\n",
    "\n",
    "#R183C\n",
    "RQ_active_trio_wt = Ga_GTP_Eff_vec[-1]\n",
    "RQ_active_trio_mut =Ga_GTP_Eff_mut_vec[-1]\n",
    "RQ_active_plcb_wt = Ga_GTP_Eff_GAP_vec[-1]\n",
    "RQ_active_plcb_mut = Ga_GTP_Eff_GAP_mut_vec[-1]\n",
    "RQ_hetG_wt = G_vec[-1]\n",
    "RQ_hetG_mut = G_mut_vec[-1]\n",
    "RQ_GaGTP_wt = Ga_GTP_vec[-1]\n",
    "RQ_GaGTP_mut = Ga_GTP_mut_vec[-1]\n",
    "RQ_GaGDP_wt = Ga_GDP_vec[-1]\n",
    "RQ_GaGDP_mut = Ga_GDP_mut_vec[-1]\n",
    "\n",
    "#Conservation checks\n",
    "check_conservation()"
   ]
  },
  {
   "cell_type": "code",
   "execution_count": 30,
   "metadata": {},
   "outputs": [
    {
     "data": {
      "text/plain": [
       "<matplotlib.legend.Legend at 0x7ff3dbc263d0>"
      ]
     },
     "execution_count": 30,
     "metadata": {},
     "output_type": "execute_result"
    },
    {
     "data": {
      "image/png": "[encoded data removed]",
      "text/plain": [
       "<Figure size 432x288 with 1 Axes>"
      ]
     },
     "metadata": {
      "needs_background": "light"
     },
     "output_type": "display_data"
    }
   ],
   "source": [
    "bars1 = numpy.array([WT_active_trio_wt+WT_active_trio_mut,QL_active_trio_wt,QP_active_trio_wt,RQ_active_trio_wt,CY_active_trio_wt+CY_active_trio_mut])*100.0/total_eff\n",
    "bars2 = numpy.array([0,QL_active_trio_mut,QP_active_trio_mut,RQ_active_trio_mut,0])*100.0/total_eff\n",
    "\n",
    "r = [0,1,2,3,4]\n",
    "\n",
    "names = ['WT/WT','WT/Q209L','WT/Q209P','WT/R183C','WT/CYSLTR2']\n",
    "#names = ['WT','Q209L','Q209P','R183C','CYSLTR2']\n",
    "barWidth = 0.35\n",
    "\n",
    "plt.bar(r, bars1, color='#7f6d5f', edgecolor='white', width=barWidth,label='WT active TRIO',alpha=0.5)\n",
    "plt.bar(r, bars2, bottom=bars1, color=(1,0,165/255.0), edgecolor='white', width=barWidth,label='mut active TRIO',alpha=0.5)\n",
    "\n",
    "plt.ylim([0,100])\n",
    "plt.xlim([-0.25,4.3])\n",
    "\n",
    "plt.xticks(r, names,size=12)#,fontweight='bold')\n",
    "plt.yticks([0,20,40,60,80,100],size=15)\n",
    "\n",
    "plt.ylabel('Active TRIO [%]',size=15)\n",
    "\n",
    "plt.legend(loc='upper left',fontsize=15)\n",
    "\n",
    "#plt.savefig('./GNAQ_figures/reviewer_response_12-12-23/bound_trio_bar_chart_het.svg',dpi=200,transparent='True')"
   ]
  },
  {
   "cell_type": "code",
   "execution_count": 31,
   "metadata": {},
   "outputs": [
    {
     "data": {
      "text/plain": [
       "<matplotlib.legend.Legend at 0x7ff3a8f628e0>"
      ]
     },
     "execution_count": 31,
     "metadata": {},
     "output_type": "execute_result"
    },
    {
     "data": {
      "image/png": "[encoded data removed]",
      "text/plain": [
       "<Figure size 432x288 with 1 Axes>"
      ]
     },
     "metadata": {
      "needs_background": "light"
     },
     "output_type": "display_data"
    }
   ],
   "source": [
    "bars1 = numpy.array([WT_active_plcb_wt+WT_active_plcb_mut,QL_active_plcb_wt,QP_active_plcb_wt,RQ_active_plcb_wt,CY_active_plcb_wt+CY_active_plcb_mut])*100.0/total_effg\n",
    "bars2 = numpy.array([0,QL_active_plcb_mut,QP_active_plcb_mut,RQ_active_plcb_mut,0])*100.0/total_effg\n",
    "\n",
    "r = [0,1,2,3,4]\n",
    "\n",
    "names = ['WT/WT','WT/Q209L','WT/Q209P','WT/R183C','WT/CYSLTR2']\n",
    "#names = ['WT','Q209L','Q209P','R183C','CYSLTR2']\n",
    "barWidth = 0.35\n",
    "\n",
    "plt.bar(r, bars1, color='#7f6d5f', edgecolor='white', width=barWidth,label='WT active PLCB',alpha=0.5)\n",
    "plt.bar(r, bars2, bottom=bars1, color=(1,0,165/255.0), edgecolor='white', width=barWidth,label='mut active PLCB',alpha=0.5)\n",
    "\n",
    "plt.ylim([0,55])\n",
    "plt.xlim([-0.25,4.3])\n",
    "\n",
    "plt.xticks(r, names,size=12)\n",
    "plt.yticks([0,10,20,30,40,50],size=15)\n",
    "\n",
    "plt.ylabel('Active PLCB [%]',size=15)\n",
    "\n",
    "plt.legend(loc='upper left',fontsize=15)\n",
    "\n",
    "#plt.savefig('./GNAQ_figures/reviewer_response_12-12-23/bound_plcb_bar_chart_het.svg',dpi=200,transparent='True')"
   ]
  },
  {
   "cell_type": "markdown",
   "metadata": {},
   "source": [
    "## Sobol sensitivity analysis"
   ]
  },
  {
   "cell_type": "code",
   "execution_count": 32,
   "metadata": {},
   "outputs": [],
   "source": [
    "#Reference WT\n",
    "params_dic_SO = {'G_tot':total_g,'G0':g_wt_het,'G_mut0':g_mut_het,\n",
    "                 'Eff0':total_eff,'Eff_GAP0':total_effg,\n",
    "                 'RL':RL_base,'RGS0':40,\n",
    "                 'k_hyd2':khyd_plcb_wt,\n",
    "                 'k_cat2_mut':25.0,\n",
    "                 'k_hyd2_mut':khyd_plcb_wt,\n",
    "                 'k_at1_mut':0.498,'k_at2_mut':0.498,'k_at3_mut':0.498/6,'k_hyd_mut':0.013,\n",
    "                 't_end':100000,'dt':0.1}"
   ]
  },
  {
   "cell_type": "code",
   "execution_count": 33,
   "metadata": {},
   "outputs": [],
   "source": [
    "###### NOTE: SALib is the only non-standard dependency you will likely need to install, \n",
    "######       found here: https://salib.readthedocs.io/en/latest/index.html\n",
    "from SALib.sample import saltelli\n",
    "from SALib.analyze import sobol"
   ]
  },
  {
   "cell_type": "code",
   "execution_count": 34,
   "metadata": {},
   "outputs": [],
   "source": [
    "#Parameter ranges\n",
    "problem = {\n",
    "    'num_vars': 13,\n",
    "    'names': ['total_g','total_RL','total_eff','total_effg','total_RGS','k_at1_base','k_at2_base','k_at3_base','khyd2','k_hyd_def','K_m1','QL_mult1','QL_mult2'],\n",
    "    'bounds': [[100,200],\n",
    "               [0.1,0.5],\n",
    "               [10,100],\n",
    "               [75,125],\n",
    "               [40,100],\n",
    "               [0.498/10,0.498*10],\n",
    "               [0.498/10,0.498*10],\n",
    "               [(0.498/6)/10,(0.498/6)*10],\n",
    "               [0.013,0.013*100],\n",
    "               [0.013/140,0.013/3],\n",
    "               [50,500],\n",
    "               [0.25,4.0],\n",
    "               [0.25,4.0]]\n",
    "}"
   ]
  },
  {
   "cell_type": "code",
   "execution_count": 35,
   "metadata": {},
   "outputs": [
    {
     "name": "stderr",
     "output_type": "stream",
     "text": [
      "/Users/michaeltrogdon/opt/anaconda3/lib/python3.8/site-packages/SALib/sample/saltelli.py:94: UserWarning: \n",
      "        Convergence properties of the Sobol' sequence is only valid if\n",
      "        `N` (300) is equal to `2^n`.\n",
      "        \n",
      "  warnings.warn(msg)\n"
     ]
    }
   ],
   "source": [
    "#Example of how parameter samples are drawn\n",
    "param_values = saltelli.sample(problem, 300)"
   ]
  },
  {
   "cell_type": "code",
   "execution_count": 36,
   "metadata": {},
   "outputs": [],
   "source": [
    "## WARNING: Next 2 cells are used to generate sensitivy analysis data, they will take several hours to run.\n",
    "#             Simply uncomment the cells if you would like to generate a new sensitivity analysis, or use provided data.\n",
    "#             Note: generated samples are random, so will vary from exact values used for paper"
   ]
  },
  {
   "cell_type": "code",
   "execution_count": 37,
   "metadata": {},
   "outputs": [],
   "source": [
    "# YL = numpy.zeros([param_values.shape[0]])\n",
    "# YL2 = numpy.zeros([param_values.shape[0]])\n",
    "\n",
    "# YC = numpy.zeros([param_values.shape[0]])\n",
    "# YC2 = numpy.zeros([param_values.shape[0]])\n",
    "\n",
    "# Y = numpy.zeros([param_values.shape[0]])\n",
    "# Y2 = numpy.zeros([param_values.shape[0]])"
   ]
  },
  {
   "cell_type": "code",
   "execution_count": 38,
   "metadata": {},
   "outputs": [],
   "source": [
    "# %%time\n",
    "# for i, X in enumerate(param_values):\n",
    "    \n",
    "#     #Q209L\n",
    "#     #Standard heterozygous mutation (stored in parameter_sweep_data_1.pkl,parameter_sweep_data_2.pkl)\n",
    "#     params_dic_SO['G_tot'] = X[0]\n",
    "#     params_dic_SO['G0'] = X[0]*0.75\n",
    "#     params_dic_SO['G_mut0'] = X[0]*0.25\n",
    "    \n",
    "#     params_dic_SO['RL'] = X[1]\n",
    "#     params_dic_SO['Eff0'] = X[2]\n",
    "#     params_dic_SO['Eff_GAP0'] = X[3]\n",
    "#     params_dic_SO['RGS0'] = X[4]\n",
    "    \n",
    "#     params_dic_SO['K_m1'] = X[10]\n",
    "    \n",
    "#     params_dic_SO['k_at1'] = X[5]\n",
    "#     params_dic_SO['k_at2'] = X[6]\n",
    "#     params_dic_SO['k_at3'] = X[7]\n",
    "#     params_dic_SO['k_hyd2'] = X[8]\n",
    "    \n",
    "#     params_dic_SO['k_cat2_mut'] = X[9]\n",
    "#     params_dic_SO['k_hyd2_mut'] = X[9]\n",
    "#     params_dic_SO['k_hyd_mut'] = X[9]\n",
    "    \n",
    "#     params_dic_SO['k_at1_mut'] = X[5]*X[11]\n",
    "#     params_dic_SO['k_at2_mut'] = X[6]*X[12]\n",
    "#     params_dic_SO['k_at3_mut'] = X[7]*1.33\n",
    "    \n",
    "#     [t_vec,G_vec,Ga_GTP_vec,Ga_GDP_vec,Ga_nf_vec,Eff_vec,Ga_GTP_Eff_vec,G_mut_vec,Ga_GTP_mut_vec,\n",
    "#      Ga_GDP_mut_vec,Ga_nf_mut_vec,Ga_GTP_Eff_mut_vec,Eff_GAP_vec,Ga_GTP_Eff_GAP_vec,Ga_GTP_Eff_GAP_mut_vec,\n",
    "#      Ga_GTP_bg_vec,Ga_GTP_bg_mut_vec,RGS_vec,Ga_GTP_RGS_vec,Ga_GTP_RGS_mut_vec] = gnaq_wt_and_mut_basal(**params_dic_SO)\n",
    "    \n",
    "#     #TRIO\n",
    "#     YL[i] = Ga_GTP_Eff_vec[-1] + Ga_GTP_Eff_mut_vec[-1]\n",
    "#     #PLCB\n",
    "#     YL2[i] = Ga_GTP_Eff_GAP_vec[-1] + Ga_GTP_Eff_GAP_mut_vec[-1]\n",
    "    \n",
    "#     #CYSLTR2\n",
    "#     params_dic_SO['G_tot'] = X[0]\n",
    "#     params_dic_SO['G0'] = X[0]\n",
    "#     params_dic_SO['G_mut0'] = 0\n",
    "    \n",
    "#     #Standard heteroyzygous mutation\n",
    "#     params_dic_SO['RL'] = (X[1]/2) + X[1]*(204/15.0)/2 #(X[1]/2.0)+(X[1]/2.0)*6\n",
    "    \n",
    "#     params_dic_SO['Eff0'] = X[2]\n",
    "#     params_dic_SO['Eff_GAP0'] = X[3]\n",
    "#     params_dic_SO['RGS0'] = X[4]\n",
    "    \n",
    "#     params_dic_SO['K_m1'] = X[10]\n",
    "    \n",
    "#     params_dic_SO['k_at1'] = X[5]\n",
    "#     params_dic_SO['k_at2'] = X[6]\n",
    "#     params_dic_SO['k_at3'] = X[7]\n",
    "#     params_dic_SO['k_hyd2'] = X[8]\n",
    "    \n",
    "#     params_dic_SO['k_cat2_mut'] = X[9]\n",
    "#     params_dic_SO['k_hyd2_mut'] = X[9]\n",
    "#     params_dic_SO['k_hyd_mut'] = X[9]\n",
    "    \n",
    "#     params_dic_SO['k_at1_mut'] = X[5]\n",
    "#     params_dic_SO['k_at2_mut'] = X[6]\n",
    "#     params_dic_SO['k_at3_mut'] = X[7]\n",
    "    \n",
    "#     [t_vec,G_vec,Ga_GTP_vec,Ga_GDP_vec,Ga_nf_vec,Eff_vec,Ga_GTP_Eff_vec,G_mut_vec,Ga_GTP_mut_vec,\n",
    "#      Ga_GDP_mut_vec,Ga_nf_mut_vec,Ga_GTP_Eff_mut_vec,Eff_GAP_vec,Ga_GTP_Eff_GAP_vec,Ga_GTP_Eff_GAP_mut_vec,\n",
    "#      Ga_GTP_bg_vec,Ga_GTP_bg_mut_vec,RGS_vec,Ga_GTP_RGS_vec,Ga_GTP_RGS_mut_vec] = gnaq_wt_and_mut_basal(**params_dic_SO)\n",
    "    \n",
    "#     #TRIO\n",
    "#     YC[i] = Ga_GTP_Eff_vec[-1] + Ga_GTP_Eff_mut_vec[-1]\n",
    "#     #PLCB\n",
    "#     YC2[i] = Ga_GTP_Eff_GAP_vec[-1] + Ga_GTP_Eff_GAP_mut_vec[-1]\n",
    "    \n",
    "#     Y[i] = YL[i] - YC[i]\n",
    "#     Y2[i] = YL2[i] - YC2[i]\n",
    "\n",
    "# Si = sobol.analyze(problem, Y)\n",
    "# Si2 = sobol.analyze(problem, Y2)\n",
    "# #Si3 = sobol.analyze(problem, numpy.array(Y)+numpy.array(Y2))"
   ]
  },
  {
   "cell_type": "code",
   "execution_count": 39,
   "metadata": {},
   "outputs": [],
   "source": [
    "# To generate plot with provided data, need .pkl objects in correct path\n",
    "fname = './parameter_sweep_data_1.pkl'\n",
    "with open(fname, 'rb') as fd:\n",
    "    [problem_v3,param_values_v3,YL_v3,YL2_v3,YC_v3,YC2_v3] = pickle.load(fd, encoding='bytes')\n",
    "    \n",
    "fname = './parameter_sweep_data_2.pkl'\n",
    "with open(fname, 'rb') as fd:\n",
    "    [problem_v5,param_values_v5,YL_v5,YL2_v5,YC_v5,YC2_v5] = pickle.load(fd, encoding='bytes')"
   ]
  },
  {
   "cell_type": "code",
   "execution_count": 40,
   "metadata": {},
   "outputs": [],
   "source": [
    "param_values = numpy.concatenate((param_values_v3,param_values_v5))\n",
    "YL = numpy.concatenate((YL_v3,YL_v5))\n",
    "YC = numpy.concatenate((YC_v3,YC_v5))\n",
    "YL2 = numpy.concatenate((YL2_v3,YL2_v5))\n",
    "YC2 = numpy.concatenate((YC2_v3,YC2_v5))\n",
    "\n",
    "\n",
    "Y = YL - YC\n",
    "Y2 = YL2 - YC2\n",
    "Si = sobol.analyze(problem, Y)\n",
    "Si2 = sobol.analyze(problem, Y2)"
   ]
  },
  {
   "cell_type": "code",
   "execution_count": 41,
   "metadata": {
    "collapsed": false,
    "jupyter": {
     "outputs_hidden": false
    }
   },
   "outputs": [
    {
     "data": {
      "text/plain": [
       "<matplotlib.legend.Legend at 0x7ff3a91f0c10>"
      ]
     },
     "execution_count": 41,
     "metadata": {},
     "output_type": "execute_result"
    },
    {
     "data": {
      "image/png": "[encoded data removed]",
      "text/plain": [
       "<Figure size 432x288 with 1 Axes>"
      ]
     },
     "metadata": {
      "needs_background": "light"
     },
     "output_type": "display_data"
    }
   ],
   "source": [
    "bars1 = [Si['ST'][0],Si['ST'][1],Si['ST'][2],Si['ST'][3],Si['ST'][4],Si['ST'][5],\n",
    "         Si['ST'][6],Si['ST'][7],Si['ST'][8],Si['ST'][9],Si['ST'][10],Si['ST'][11],Si['ST'][12]]\n",
    "bars2 = [Si2['ST'][0],Si2['ST'][1],Si2['ST'][2],Si2['ST'][3],Si2['ST'][4],Si2['ST'][5],\n",
    "         Si2['ST'][6],Si2['ST'][7],Si2['ST'][8],Si2['ST'][9],Si2['ST'][10],Si2['ST'][11],Si2['ST'][12]]\n",
    "\n",
    "r = [0,1,2,3,4,5,6,7,8,9,10,11,12]\n",
    "r2 = [0.35,1.35,2.35,3.35,4.35,5.35,6.35,7.35,8.35,9.35,10.35,11.35,12.35]\n",
    "\n",
    "names = ['1','2','3','4','5','6','7','8','9','10','11','12','13']\n",
    "barWidth = 0.35\n",
    "\n",
    "plt.bar(r, bars1, color='#7f6d5f', edgecolor='white', width=barWidth,label='TRIO Sensitivity',alpha=0.5)\n",
    "plt.bar(r2, bars2, color=(1,0,165/255.0), edgecolor='white', width=barWidth,label='PLCB Sensitivity',alpha=0.5)\n",
    "\n",
    "plt.ylim([0,0.6])\n",
    "plt.xlim([0,12.75])\n",
    "\n",
    "plt.xticks(r2, names,size=16)\n",
    "plt.yticks(size=16)\n",
    "plt.xlabel('Model Parameters',size=16)\n",
    "plt.title('Global Sensitiviy of Downstream Activation \\n GNAQ Q209L vs CYSLTR2 L129Q',size=16)\n",
    "plt.ylabel('Sobol Total Sensitivity Index',size=16)\n",
    "plt.legend(loc='upper left',fontsize=16)\n",
    "\n",
    "#plt.savefig('./sobol_sensitivity_sweepsv3+v5.svg',transparent='True')\n",
    "#plt.savefig('./GNAQ_figures/sobol_sensitivity_sweepsv3+v5.svg',dpi=200,transparent='True')"
   ]
  },
  {
   "cell_type": "code",
   "execution_count": 42,
   "metadata": {
    "collapsed": false,
    "jupyter": {
     "outputs_hidden": false
    }
   },
   "outputs": [
    {
     "name": "stdout",
     "output_type": "stream",
     "text": [
      "CPU times: user 5.7 ms, sys: 183 µs, total: 5.88 ms\n",
      "Wall time: 5.95 ms\n"
     ]
    }
   ],
   "source": [
    "%%time\n",
    "\n",
    "## Check which parameter sets match experiment and which don't\n",
    "worked = []\n",
    "didnt_work = []\n",
    "\n",
    "for i, X in enumerate(param_values):\n",
    "    \n",
    "    if YC[i]<YL[i] and YC2[i]>=YL2[i]:\n",
    "        worked.append(X)\n",
    "    else:\n",
    "        didnt_work.append(X)"
   ]
  },
  {
   "cell_type": "code",
   "execution_count": 43,
   "metadata": {},
   "outputs": [
    {
     "name": "stdout",
     "output_type": "stream",
     "text": [
      "CPU times: user 12.7 ms, sys: 212 µs, total: 12.9 ms\n",
      "Wall time: 13.1 ms\n"
     ]
    }
   ],
   "source": [
    "%%time\n",
    "\n",
    "## Check which parameter sets have certain behaviors and which don't\n",
    "CY_deficient_trio = []\n",
    "CY_deficient_plcb = []\n",
    "CY_deficient_both = []\n",
    "\n",
    "for i, X in enumerate(param_values):\n",
    "    \n",
    "    if YC[i]<YL[i] and YC2[i]>YL2[i]:\n",
    "        CY_deficient_trio.append(X)\n",
    "    if YC2[i]<YL2[i] and YC[i]>YL[i]:    \n",
    "        CY_deficient_plcb.append(X)\n",
    "    if YC[i]<YL[i] and YC2[i]<YL2[i]:\n",
    "        CY_deficient_both.append(X)"
   ]
  },
  {
   "cell_type": "code",
   "execution_count": 44,
   "metadata": {},
   "outputs": [
    {
     "name": "stdout",
     "output_type": "stream",
     "text": [
      "0.04544642857142857\n",
      "0.49580357142857145\n",
      "0.2583035714285714\n"
     ]
    }
   ],
   "source": [
    "print(numpy.shape(CY_deficient_trio)[0]/numpy.shape(param_values)[0])\n",
    "print(numpy.shape(CY_deficient_plcb)[0]/numpy.shape(param_values)[0])\n",
    "print(numpy.shape(CY_deficient_both)[0]/numpy.shape(param_values)[0])"
   ]
  },
  {
   "cell_type": "code",
   "execution_count": 45,
   "metadata": {},
   "outputs": [
    {
     "name": "stdout",
     "output_type": "stream",
     "text": [
      "0.04544642857142857\n",
      "0.9545535714285714\n"
     ]
    }
   ],
   "source": [
    "print(numpy.shape(worked)[0]/numpy.shape(param_values)[0])\n",
    "print(numpy.shape(didnt_work)[0]/numpy.shape(param_values)[0])"
   ]
  },
  {
   "cell_type": "code",
   "execution_count": 46,
   "metadata": {
    "tags": []
   },
   "outputs": [
    {
     "data": {
      "text/plain": [
       "(array([0. , 0.1, 0.2, 0.3, 0.4, 0.5, 0.6]),\n",
       " [Text(0, 0, ''),\n",
       "  Text(0, 0, ''),\n",
       "  Text(0, 0, ''),\n",
       "  Text(0, 0, ''),\n",
       "  Text(0, 0, ''),\n",
       "  Text(0, 0, ''),\n",
       "  Text(0, 0, '')])"
      ]
     },
     "execution_count": 46,
     "metadata": {},
     "output_type": "execute_result"
    },
    {
     "data": {
      "image/png": "[encoded data removed]",
      "text/plain": [
       "<Figure size 432x288 with 1 Axes>"
      ]
     },
     "metadata": {
      "needs_background": "light"
     },
     "output_type": "display_data"
    }
   ],
   "source": [
    "worked=numpy.array(worked)\n",
    "didnt_work=numpy.array(didnt_work)\n",
    "plt.hist(worked[:,12]/worked[:,11],color=(1,0,165/255.0),bins=12,range=[0,14],density=True,alpha=0.5,label='Matches Experiment',edgecolor='black')\n",
    "plt.hist(didnt_work[:,12]/didnt_work[:,11],color=(0,1,1),bins=12,range=[0,14],density=True,alpha=0.5,label='Does Not Match Experiment',edgecolor='black')\n",
    "plt.xlabel('Bias of Q209L TRIO/PLCB binding',size=16)\n",
    "plt.ylabel('Parameter Set Distribution',size=16)\n",
    "plt.legend(loc='upper right',fontsize=15)\n",
    "plt.xticks(size=16)\n",
    "plt.yticks(size=16)\n",
    "#plt.savefig('./bias_histogram_didnt_both_sweepsv3+v5.svg',transparent='True')\n",
    "#plt.savefig('./GNAQ_figures/bias_histogram_didnt_both_sweepsv3+v5.svg',dpi=200,transparent='True')"
   ]
  },
  {
   "cell_type": "code",
   "execution_count": 47,
   "metadata": {
    "tags": []
   },
   "outputs": [
    {
     "data": {
      "text/plain": [
       "([<matplotlib.axis.YTick at 0x7ff3983f94c0>,\n",
       "  <matplotlib.axis.YTick at 0x7ff3983eafa0>,\n",
       "  <matplotlib.axis.YTick at 0x7ff3983f4eb0>,\n",
       "  <matplotlib.axis.YTick at 0x7ff39849af40>],\n",
       " [Text(0, 0, ''), Text(0, 0, ''), Text(0, 0, ''), Text(0, 0, '')])"
      ]
     },
     "execution_count": 47,
     "metadata": {},
     "output_type": "execute_result"
    },
    {
     "data": {
      "image/png": "[encoded data removed]",
      "text/plain": [
       "<Figure size 432x288 with 1 Axes>"
      ]
     },
     "metadata": {
      "needs_background": "light"
     },
     "output_type": "display_data"
    }
   ],
   "source": [
    "plt.hist(worked[:,8]/0.013,color=(1,0,165/255.0),bins=12,range=[0,100],density=True,alpha=0.5,label='Matches Experiment',edgecolor='black')\n",
    "plt.hist(didnt_work[:,8]/0.013,color=(0,1,1),bins=12,range=[0,100],density=True,alpha=0.5,label='Does Not Match Experiment',edgecolor='black')\n",
    "plt.xlabel('Fold PLCB Hydrolysis',size=16)\n",
    "plt.ylabel('Parameter Set Distribution',size=16)\n",
    "#plt.title('Behavior Matches Experiment')\n",
    "plt.legend(loc='upper right',fontsize=15)\n",
    "plt.xticks(size=16)\n",
    "plt.yticks([0,0.01,0.02,0.03],size=16)\n",
    "#plt.savefig('./khyd2_histogram_didnt_both_sweepsv3+v5.svg',dpi=200,transparent='True')\n",
    "#plt.savefig('./GNAQ_figures/khyd2_histogram_didnt_both_sweepsv3+v5.svg',dpi=200,transparent='True')"
   ]
  },
  {
   "cell_type": "code",
   "execution_count": 48,
   "metadata": {},
   "outputs": [
    {
     "name": "stdout",
     "output_type": "stream",
     "text": [
      "KS test worked: KstestResult(statistic=0.4251547151277013, pvalue=2.1776351654193116e-80)\n",
      "KS test didnt work: KstestResult(statistic=0.02024167524085685, pvalue=0.02230440992933679)\n"
     ]
    },
    {
     "data": {
      "text/plain": [
       "[]"
      ]
     },
     "execution_count": 48,
     "metadata": {},
     "output_type": "execute_result"
    },
    {
     "data": {
      "image/png": "[encoded data removed]",
      "text/plain": [
       "<Figure size 432x288 with 3 Axes>"
      ]
     },
     "metadata": {},
     "output_type": "display_data"
    }
   ],
   "source": [
    "fig, axs = plt.subplots(1, 3,tight_layout=True)\n",
    "\n",
    "idx = 12\n",
    "\n",
    "print('KS test worked:', scipy.stats.ks_2samp(param_values[:,idx],worked[:,idx]))\n",
    "print('KS test didnt work:',scipy.stats.ks_2samp(param_values[:,idx],didnt_work[:,idx]))\n",
    "\n",
    "axs[0].hist(param_values[:,idx],density=True)\n",
    "axs[1].hist(worked[:,idx],density=True,bins=6)\n",
    "axs[2].hist(didnt_work[:,idx],density=True)\n",
    "\n",
    "axs[0].set_xticks([])\n",
    "axs[1].set_xticks([])\n",
    "axs[2].set_xticks([])\n",
    "\n",
    "axs[0].set_yticks([])\n",
    "axs[1].set_yticks([])\n",
    "axs[2].set_yticks([])"
   ]
  },
  {
   "cell_type": "code",
   "execution_count": 49,
   "metadata": {},
   "outputs": [],
   "source": [
    "def get_TPR_FPR_effector(YC,YL,param_values,threshold):\n",
    "    \n",
    "    true_positive = 0.0\n",
    "    false_positive = 0.0\n",
    "    false_negative = 0.0\n",
    "    true_negative = 0.0\n",
    "\n",
    "    for i, X in enumerate(param_values):\n",
    "        if X[12]/X[11] >= threshold:\n",
    "            if YC[i]<YL[i] and YC2[i]>=YL2[i]:\n",
    "                true_positive = true_positive + 1\n",
    "            else:\n",
    "                false_positive = false_positive + 1\n",
    "        else:\n",
    "            if YC[i]<YL[i] and YC2[i]>=YL2[i]:\n",
    "                false_negative = false_negative + 1\n",
    "            else:\n",
    "                true_negative = true_negative + 1\n",
    "                \n",
    "    total_positive = true_positive + false_negative\n",
    "    total_negative = true_negative + false_positive\n",
    "    \n",
    "    #print total_positive,total_negative\n",
    "    \n",
    "    return [true_positive/total_positive,false_positive/total_negative]"
   ]
  },
  {
   "cell_type": "code",
   "execution_count": 50,
   "metadata": {},
   "outputs": [],
   "source": [
    "def get_TPR_FPR_plcb(YC,YL,param_values,threshold):\n",
    "    \n",
    "    true_positive = 0.0\n",
    "    false_positive = 0.0\n",
    "    false_negative = 0.0\n",
    "    true_negative = 0.0\n",
    "\n",
    "    for i, X in enumerate(param_values):\n",
    "        if X[8]/0.013 < threshold:\n",
    "            if YC[i]<YL[i] and YC2[i]>=YL2[i]:\n",
    "                true_positive = true_positive + 1\n",
    "            else:\n",
    "                false_positive = false_positive + 1\n",
    "        else:\n",
    "            if YC[i]<YL[i] and YC2[i]>=YL2[i]:\n",
    "                false_negative = false_negative + 1\n",
    "            else:\n",
    "                true_negative = true_negative + 1\n",
    "                \n",
    "    total_positive = true_positive + false_negative\n",
    "    total_negative = true_negative + false_positive\n",
    "    \n",
    "    #print total_positive,total_negative\n",
    "    \n",
    "    return [true_positive/total_positive,false_positive/total_negative]"
   ]
  },
  {
   "cell_type": "code",
   "execution_count": 51,
   "metadata": {},
   "outputs": [],
   "source": [
    "TPR_list_effector = []\n",
    "FPR_list_effector = []\n",
    "\n",
    "for threshold in numpy.linspace(0,14,num=100):\n",
    "        [TPR,FPR] = get_TPR_FPR_effector(YC,YL,param_values,threshold)\n",
    "        \n",
    "        TPR_list_effector.append(TPR)\n",
    "        FPR_list_effector.append(FPR)"
   ]
  },
  {
   "cell_type": "code",
   "execution_count": 52,
   "metadata": {},
   "outputs": [],
   "source": [
    "TPR_list_plcb = []\n",
    "FPR_list_plcb = []\n",
    "\n",
    "for threshold in numpy.linspace(0,100,num=100):\n",
    "        [TPR,FPR] = get_TPR_FPR_plcb(YC,YL,param_values,threshold)\n",
    "        \n",
    "        TPR_list_plcb.append(TPR)\n",
    "        FPR_list_plcb.append(FPR)"
   ]
  },
  {
   "cell_type": "code",
   "execution_count": 53,
   "metadata": {},
   "outputs": [
    {
     "data": {
      "text/plain": [
       "<matplotlib.legend.Legend at 0x7ff3681294f0>"
      ]
     },
     "execution_count": 53,
     "metadata": {},
     "output_type": "execute_result"
    },
    {
     "data": {
      "image/png": "[encoded data removed]",
      "text/plain": [
       "<Figure size 432x288 with 1 Axes>"
      ]
     },
     "metadata": {
      "needs_background": "light"
     },
     "output_type": "display_data"
    }
   ],
   "source": [
    "plt.plot(FPR_list_effector,TPR_list_effector,'b',label='Effector Binding Classifier \\n AUC=0.95',linewidth=2)\n",
    "plt.plot(FPR_list_plcb,TPR_list_plcb,'g',label='PLCB Hydrolysis Classifier\\n AUC=0.70',linewidth=2)\n",
    "plt.plot([0, 1], [0, 1], 'r--',linewidth=2)\n",
    "\n",
    "plt.ylim([0,1.2])\n",
    "\n",
    "plt.xticks([0,0.5,1],size=20)\n",
    "plt.yticks([0.5,1],size=20)\n",
    "plt.legend(loc='best',fontsize=12)"
   ]
  },
  {
   "cell_type": "code",
   "execution_count": 54,
   "metadata": {},
   "outputs": [
    {
     "name": "stdout",
     "output_type": "stream",
     "text": [
      "0.9486392994566607\n",
      "-0.7026901793348755\n"
     ]
    }
   ],
   "source": [
    "print(numpy.trapz(TPR_list_effector[::-1], x=FPR_list_effector[::-1]))\n",
    "print(numpy.trapz(TPR_list_plcb[::-1], x=FPR_list_plcb[::-1]))"
   ]
  },
  {
   "cell_type": "code",
   "execution_count": 55,
   "metadata": {},
   "outputs": [],
   "source": [
    "#Testing example set of parameters \n",
    "X_post_test = [100,0.3,10,100,40,0.498,0.498,0.498/6,0.013*20,0.013/140,250,0.5,2]"
   ]
  },
  {
   "cell_type": "code",
   "execution_count": 56,
   "metadata": {
    "collapsed": false,
    "jupyter": {
     "outputs_hidden": false
    }
   },
   "outputs": [
    {
     "name": "stdout",
     "output_type": "stream",
     "text": [
      "total_RL: 0.3\n",
      "PLCB hydrolysis: 20.0\n",
      "TRIO binding: 0.498 2\n",
      "PLCB binding: 0.498 0.5\n"
     ]
    }
   ],
   "source": [
    "print('total_RL:', X_post_test[1])\n",
    "print('PLCB hydrolysis:', X_post_test[8]/0.013)\n",
    "print('TRIO binding:',X_post_test[6],X_post_test[12])\n",
    "print('PLCB binding:',X_post_test[5],X_post_test[11])"
   ]
  },
  {
   "cell_type": "code",
   "execution_count": 57,
   "metadata": {
    "collapsed": false,
    "jupyter": {
     "outputs_hidden": false
    }
   },
   "outputs": [
    {
     "name": "stdout",
     "output_type": "stream",
     "text": [
      "CPU times: user 16.8 s, sys: 334 ms, total: 17.1 s\n",
      "Wall time: 17.1 s\n"
     ]
    }
   ],
   "source": [
    "%%time\n",
    "#VARYING PLCB HYDROLYSIS\n",
    "store_vec = []\n",
    "khyd2_base = 0.013*1000 #10.0\n",
    "factor_list = numpy.logspace(-3,0,21)\n",
    "# factor_list = numpy.logspace(-3,0,11)\n",
    "for i,khyd2 in enumerate(factor_list*khyd2_base):\n",
    "    #WT\n",
    "    params_dic_WT['RL'] = X_post_test[1]\n",
    "    params_dic_WT['G_tot'] = X_post_test[0]\n",
    "    params_dic_WT['G0'] = X_post_test[0] \n",
    "    params_dic_WT['G_mut0'] = 0 \n",
    "    \n",
    "    params_dic_WT['Eff0'] = X_post_test[2]\n",
    "    params_dic_WT['Eff_GAP0'] = X_post_test[3]\n",
    "    params_dic_WT['RGS0'] = X_post_test[4]\n",
    "    \n",
    "    params_dic_WT['K_m1'] = X_post_test[10]\n",
    "    \n",
    "    params_dic_WT['k_at1'] = X_post_test[5]\n",
    "    params_dic_WT['k_at2'] = X_post_test[6]\n",
    "    params_dic_WT['k_at3'] = X_post_test[7]\n",
    "    params_dic_WT['k_hyd2'] = khyd2\n",
    "\n",
    "    [t_vec,G_vec,Ga_GTP_vec,Ga_GDP_vec,Ga_nf_vec,Eff_vec,Ga_GTP_Eff_vec,G_mut_vec,Ga_GTP_mut_vec,\n",
    "     Ga_GDP_mut_vec,Ga_nf_mut_vec,Ga_GTP_Eff_mut_vec,Eff_GAP_vec,Ga_GTP_Eff_GAP_vec,Ga_GTP_Eff_GAP_mut_vec,\n",
    "     Ga_GTP_bg_vec,Ga_GTP_bg_mut_vec,RGS_vec,Ga_GTP_RGS_vec,Ga_GTP_RGS_mut_vec] = gnaq_wt_and_mut_basal(**params_dic_WT)\n",
    "\n",
    "    store_vec_WT = [G_vec[-1],Ga_GTP_vec[-1],Ga_GDP_vec[-1],Ga_nf_vec[-1],Eff_vec[-1],Ga_GTP_Eff_vec[-1],G_mut_vec[-1],\n",
    "                    Ga_GTP_mut_vec[-1],Ga_GDP_mut_vec[-1],Ga_nf_mut_vec[-1],Ga_GTP_Eff_mut_vec[-1],Eff_GAP_vec[-1],\n",
    "                    Ga_GTP_Eff_GAP_vec[-1],Ga_GTP_Eff_GAP_mut_vec[-1],Ga_GTP_bg_vec[-1],Ga_GTP_bg_mut_vec[-1],\n",
    "                    RGS_vec[-1],Ga_GTP_RGS_vec[-1],Ga_GTP_RGS_mut_vec[-1]]\n",
    "\n",
    "    #Q209 mutants\n",
    "    params_dic_QL['RL'] = X_post_test[1]\n",
    "    params_dic_QL['G_tot'] = X_post_test[0] \n",
    "    params_dic_QL['G0'] = X_post_test[0]*0.75 \n",
    "    params_dic_QL['G_mut0'] = X_post_test[0]*0.25 \n",
    "    \n",
    "    params_dic_QL['Eff0'] = X_post_test[2]\n",
    "    params_dic_QL['Eff_GAP0'] = X_post_test[3]\n",
    "    params_dic_QL['RGS0'] = X_post_test[4]\n",
    "    \n",
    "    params_dic_QL['K_m1'] = X_post_test[10]\n",
    "    \n",
    "    params_dic_QL['k_at1'] = X_post_test[5]\n",
    "    params_dic_QL['k_at2'] = X_post_test[6]\n",
    "    params_dic_QL['k_at3'] = X_post_test[7]\n",
    "    params_dic_QL['k_hyd2'] = khyd2\n",
    "    \n",
    "    params_dic_QL['k_cat2_mut'] = X_post_test[9]\n",
    "    params_dic_QL['k_hyd2_mut'] = X_post_test[9]\n",
    "    params_dic_QL['k_hyd_mut'] = X_post_test[9]\n",
    "    \n",
    "    #Q209L\n",
    "    params_dic_QL['k_at1_mut'] = X_post_test[5]*X_post_test[11]\n",
    "    params_dic_QL['k_at2_mut'] = X_post_test[6]*X_post_test[12]\n",
    "    params_dic_QL['k_at3_mut'] = X_post_test[7]*1.33\n",
    "    \n",
    "    #Q209P\n",
    "#     params_dic_QL['k_at1_mut'] = X_post_test[5]*0.66\n",
    "#     params_dic_QL['k_at2_mut'] = X_post_test[6]*0.66\n",
    "#     params_dic_QL['k_at3_mut'] = X_post_test[7]*0.66\n",
    "\n",
    "    [t_vec,G_vec,Ga_GTP_vec,Ga_GDP_vec,Ga_nf_vec,Eff_vec,Ga_GTP_Eff_vec,G_mut_vec,Ga_GTP_mut_vec,\n",
    "     Ga_GDP_mut_vec,Ga_nf_mut_vec,Ga_GTP_Eff_mut_vec,Eff_GAP_vec,Ga_GTP_Eff_GAP_vec,Ga_GTP_Eff_GAP_mut_vec,\n",
    "     Ga_GTP_bg_vec,Ga_GTP_bg_mut_vec,RGS_vec,Ga_GTP_RGS_vec,Ga_GTP_RGS_mut_vec] = gnaq_wt_and_mut_basal(**params_dic_QL)\n",
    "\n",
    "    store_vec_L = [G_vec[-1],Ga_GTP_vec[-1],Ga_GDP_vec[-1],Ga_nf_vec[-1],Eff_vec[-1],Ga_GTP_Eff_vec[-1],G_mut_vec[-1],\n",
    "                   Ga_GTP_mut_vec[-1],Ga_GDP_mut_vec[-1],Ga_nf_mut_vec[-1],Ga_GTP_Eff_mut_vec[-1],Eff_GAP_vec[-1],\n",
    "                   Ga_GTP_Eff_GAP_vec[-1],Ga_GTP_Eff_GAP_mut_vec[-1],Ga_GTP_bg_vec[-1],Ga_GTP_bg_mut_vec[-1],\n",
    "                   RGS_vec[-1],Ga_GTP_RGS_vec[-1],Ga_GTP_RGS_mut_vec[-1]]\n",
    "    \n",
    "    #CYSLTR2\n",
    "    params_dic_CY['G_tot'] = X_post_test[0] \n",
    "    params_dic_CY['G0'] = X_post_test[0] \n",
    "    params_dic_CY['G_mut0'] = 0 \n",
    "    \n",
    "    params_dic_CY['RL'] = (X_post_test[1]/2) + X_post_test[1]*(204/15.0)/2 \n",
    "    params_dic_CY['Eff0'] = X_post_test[2]\n",
    "    params_dic_CY['Eff_GAP0'] = X_post_test[3]\n",
    "    params_dic_CY['RGS0'] = X_post_test[4]\n",
    "    \n",
    "    params_dic_CY['K_m1'] = X_post_test[10]\n",
    "    \n",
    "    params_dic_CY['k_at1'] = X_post_test[5]\n",
    "    params_dic_CY['k_at2'] = X_post_test[6]\n",
    "    params_dic_CY['k_at3'] = X_post_test[7]\n",
    "    params_dic_CY['k_hyd2'] = khyd2\n",
    "    \n",
    "    [t_vec,G_vec,Ga_GTP_vec,Ga_GDP_vec,Ga_nf_vec,Eff_vec,Ga_GTP_Eff_vec,G_mut_vec,Ga_GTP_mut_vec,\n",
    "     Ga_GDP_mut_vec,Ga_nf_mut_vec,Ga_GTP_Eff_mut_vec,Eff_GAP_vec,Ga_GTP_Eff_GAP_vec,Ga_GTP_Eff_GAP_mut_vec,\n",
    "     Ga_GTP_bg_vec,Ga_GTP_bg_mut_vec,RGS_vec,Ga_GTP_RGS_vec,Ga_GTP_RGS_mut_vec] = gnaq_wt_and_mut_basal(**params_dic_CY)\n",
    "\n",
    "    store_vec_C = [G_vec[-1],Ga_GTP_vec[-1],Ga_GDP_vec[-1],Ga_nf_vec[-1],Eff_vec[-1],Ga_GTP_Eff_vec[-1],G_mut_vec[-1],\n",
    "                   Ga_GTP_mut_vec[-1],Ga_GDP_mut_vec[-1],Ga_nf_mut_vec[-1],Ga_GTP_Eff_mut_vec[-1],Eff_GAP_vec[-1],\n",
    "                   Ga_GTP_Eff_GAP_vec[-1],Ga_GTP_Eff_GAP_mut_vec[-1],Ga_GTP_bg_vec[-1],Ga_GTP_bg_mut_vec[-1],\n",
    "                   RGS_vec[-1],Ga_GTP_RGS_vec[-1],Ga_GTP_RGS_mut_vec[-1]]\n",
    "    \n",
    "    store_vec.append([store_vec_WT,store_vec_L,store_vec_C])"
   ]
  },
  {
   "cell_type": "code",
   "execution_count": 58,
   "metadata": {
    "collapsed": false,
    "jupyter": {
     "outputs_hidden": false
    }
   },
   "outputs": [],
   "source": [
    "store_vec = numpy.array(store_vec)\n",
    "\n",
    "plot_vec_YAPWT = numpy.zeros(len(factor_list))\n",
    "plot_vec_YAPL = numpy.zeros(len(factor_list))\n",
    "plot_vec_YAPCY = numpy.zeros(len(factor_list))\n",
    "\n",
    "plot_vec_PLCWT = numpy.zeros(len(factor_list))\n",
    "plot_vec_PLCL = numpy.zeros(len(factor_list))\n",
    "plot_vec_PLCCY = numpy.zeros(len(factor_list))\n",
    "\n",
    "plot_vec_activeGqWT = numpy.zeros(len(factor_list))\n",
    "plot_vec_activeGqL = numpy.zeros(len(factor_list))\n",
    "plot_vec_activeGqCY = numpy.zeros(len(factor_list))\n",
    "\n",
    "plot_vec_testWT = numpy.zeros(len(factor_list))\n",
    "plot_vec_testL = numpy.zeros(len(factor_list))\n",
    "plot_vec_testCY = numpy.zeros(len(factor_list))\n",
    "count = 0\n",
    "for i,khyd2 in enumerate(factor_list*khyd2_base):\n",
    "    plot_vec_YAPWT[i] = (store_vec[count,0,5]+store_vec[count,0,10])*100/X_post_test[2]\n",
    "    plot_vec_YAPL[i] = (store_vec[count,1,5]+store_vec[count,1,10])*100/X_post_test[2]\n",
    "    plot_vec_YAPCY[i] = (store_vec[count,2,5]+store_vec[count,2,10])*100/X_post_test[2]\n",
    "    \n",
    "    plot_vec_PLCWT[i] = (store_vec[count,0,12]+store_vec[count,0,13])*100/X_post_test[3]\n",
    "    plot_vec_PLCL[i] = (store_vec[count,1,12]+store_vec[count,1,13])*100/X_post_test[3]\n",
    "    plot_vec_PLCCY[i] = (store_vec[count,2,12]+store_vec[count,2,13])*100/X_post_test[3]\n",
    "    \n",
    "    count = count + 1"
   ]
  },
  {
   "cell_type": "code",
   "execution_count": 59,
   "metadata": {
    "collapsed": false,
    "jupyter": {
     "outputs_hidden": false
    }
   },
   "outputs": [
    {
     "data": {
      "text/plain": [
       "<matplotlib.legend.Legend at 0x7ff3dc45c460>"
      ]
     },
     "execution_count": 59,
     "metadata": {},
     "output_type": "execute_result"
    },
    {
     "data": {
      "image/png": "[encoded data removed]",
      "text/plain": [
       "<Figure size 432x288 with 1 Axes>"
      ]
     },
     "metadata": {
      "needs_background": "light"
     },
     "output_type": "display_data"
    }
   ],
   "source": [
    "plot_factor = khyd2_base/0.013 #This will make the plot as fold PLCB mediated hydrolysis over basal hydrolysis\n",
    "plt.semilogx(factor_list*plot_factor,plot_vec_YAPWT,'k-^',label='WT')\n",
    "plt.semilogx(factor_list*plot_factor,plot_vec_YAPL,'k-+',label='GNAQ Q209L')\n",
    "plt.semilogx(factor_list*plot_factor,plot_vec_YAPCY,'k-o',label='CYSLTR2 L129Q')\n",
    "\n",
    "plt.xlim([10**0,1000.0])\n",
    "plt.ylim([0,75])\n",
    "plt.xlabel('Fold PLCB mediated hydrolysis',size=16)\n",
    "plt.ylabel('Active TRIO [%]',size=16)\n",
    "plt.xticks(size=16)\n",
    "plt.yticks(size=16)\n",
    "plt.legend(fontsize=16)\n",
    "#plt.savefig('./khyd2_sweep_trio_X-post-test.svg',transparent='True')\n",
    "#plt.savefig('./GNAQ_figures/khyd2_sweep_trio_X-post-test.svg',dpi=200,transparent='True')"
   ]
  },
  {
   "cell_type": "code",
   "execution_count": 60,
   "metadata": {
    "collapsed": false,
    "jupyter": {
     "outputs_hidden": false
    }
   },
   "outputs": [
    {
     "data": {
      "text/plain": [
       "<matplotlib.legend.Legend at 0x7ff3db25c5b0>"
      ]
     },
     "execution_count": 60,
     "metadata": {},
     "output_type": "execute_result"
    },
    {
     "data": {
      "image/png": "[encoded data removed]",
      "text/plain": [
       "<Figure size 432x288 with 1 Axes>"
      ]
     },
     "metadata": {
      "needs_background": "light"
     },
     "output_type": "display_data"
    }
   ],
   "source": [
    "plot_factor = khyd2_base/0.013 #This will make the plot as fold PLCB mediated hydrolysis over basal hydrolysis\n",
    "plt.semilogx(factor_list*plot_factor,plot_vec_PLCWT,'k-^',label='WT')\n",
    "plt.semilogx(factor_list*plot_factor,plot_vec_PLCL,'k-+',label='GNAQ Q209L')\n",
    "plt.semilogx(factor_list*plot_factor,plot_vec_PLCCY,'k-o',label='CYSLTR2 L129Q')\n",
    "\n",
    "plt.xlim([10**0,1000.0])\n",
    "plt.ylim([0,50])\n",
    "plt.xlabel('Fold PLCB mediated hydrolysis',size=16)\n",
    "plt.ylabel('Active PLCB [%]',size=16)\n",
    "plt.xticks(size=16)\n",
    "plt.yticks(size=16)\n",
    "plt.legend(fontsize=16)\n",
    "#plt.savefig('./khyd2_sweep_plcb_X-post-test.svg',transparent='True')\n",
    "#plt.savefig('./GNAQ_figures/khyd2_sweep_plcb_X-post-test.svg',dpi=200,transparent='True')"
   ]
  },
  {
   "cell_type": "markdown",
   "metadata": {},
   "source": [
    "## Parameter sets with CYSLTR2 deficient in one pathway"
   ]
  },
  {
   "cell_type": "code",
   "execution_count": 61,
   "metadata": {},
   "outputs": [
    {
     "name": "stdout",
     "output_type": "stream",
     "text": [
      "CPU times: user 46.9 ms, sys: 853 µs, total: 47.7 ms\n",
      "Wall time: 47.2 ms\n"
     ]
    }
   ],
   "source": [
    "%%time\n",
    "\n",
    "## Check which parameter sets have CYSLTR2 deficient in one pathway\n",
    "thresh = 0.25\n",
    "threshE = 0.1\n",
    "\n",
    "TE_PE = 0\n",
    "TE_Pup = 0\n",
    "TE_Pdown = 0\n",
    "\n",
    "Tup_PE = 0\n",
    "Tup_Pup = 0\n",
    "Tup_Pdown = 0\n",
    "\n",
    "Tdown_PE = 0\n",
    "Tdown_Pup = 0\n",
    "Tdown_Pdown = 0\n",
    "\n",
    "both_even = []\n",
    "trio_deficient_list = []\n",
    "plcb_deficient_list = []\n",
    "\n",
    "for i, X in enumerate(param_values):\n",
    "#     TRIO_avg = (YC[i]+YL[i])/2\n",
    "#     PLCB_avg = (YC2[i]+YL2[i])/2\n",
    "    \n",
    "    TRIO_avg = max(YC[i],YL[i])\n",
    "    PLCB_avg = max(YC2[i],YL2[i])\n",
    "    \n",
    "    if abs(YC[i]-YL[i])/TRIO_avg < threshE and abs(YC2[i]-YL2[i])/PLCB_avg < threshE:\n",
    "        TE_PE = TE_PE + 1\n",
    "        both_even.append(X)\n",
    "    elif abs(YC[i]-YL[i])/TRIO_avg < threshE and (YC2[i]-YL2[i])/PLCB_avg > thresh:\n",
    "        TE_Pup = TE_Pup + 1\n",
    "    elif abs(YC[i]-YL[i])/TRIO_avg < threshE and (YL2[i]-YC2[i])/PLCB_avg > thresh:# and (YL2[i]-WT_active_plcb_wt)/PLCB_avg > thresh:\n",
    "        TE_Pdown = TE_Pdown + 1\n",
    "        plcb_deficient_list.append(X)\n",
    "    elif (YC[i]-YL[i])/TRIO_avg > thresh and abs(YC2[i]-YL2[i])/PLCB_avg < threshE:\n",
    "        Tup_PE = Tup_PE + 1\n",
    "    elif (YC[i]-YL[i])/TRIO_avg > thresh and (YC2[i]-YL2[i])/PLCB_avg > thresh:\n",
    "        Tup_Pup = Tup_Pup + 1\n",
    "    elif (YC[i]-YL[i])/TRIO_avg > thresh and (YL2[i]-YC2[i])/PLCB_avg > thresh:\n",
    "        Tup_Pdown = Tup_Pdown + 1\n",
    "    elif (YL[i]-YC[i])/TRIO_avg > thresh and abs(YC2[i]-YL2[i])/PLCB_avg < threshE:# and (YL[i]-WT_active_trio_wt)/TRIO_avg > thresh:\n",
    "        Tdown_PE = Tdown_PE + 1\n",
    "        trio_deficient_list.append(X)\n",
    "    elif (YL[i]-YC[i])/TRIO_avg > thresh and (YC2[i]-YL2[i])/PLCB_avg > thresh:\n",
    "        Tdown_Pup = Tdown_Pup + 1\n",
    "    elif (YL[i]-YC[i])/TRIO_avg > thresh and (YL2[i]-YC2[i])/PLCB_avg > thresh:\n",
    "        Tdown_Pdown = Tdown_Pdown + 1"
   ]
  },
  {
   "cell_type": "code",
   "execution_count": 62,
   "metadata": {},
   "outputs": [
    {
     "name": "stdout",
     "output_type": "stream",
     "text": [
      "118 120 1139\n"
     ]
    }
   ],
   "source": [
    "print(len(both_even),len(trio_deficient_list),len(plcb_deficient_list))"
   ]
  },
  {
   "cell_type": "code",
   "execution_count": 63,
   "metadata": {},
   "outputs": [],
   "source": [
    "#Choosing representative parameter sets for deficiency in given pathway\n",
    "# X_post_test = both_even[0]\n",
    "# X_post_test = plcb_deficient_list[0]\n",
    "X_post_test = trio_deficient_list[0]"
   ]
  },
  {
   "cell_type": "code",
   "execution_count": 64,
   "metadata": {},
   "outputs": [],
   "source": [
    "#WT\n",
    "params_dic_SO['G_tot'] = X_post_test[0]\n",
    "params_dic_SO['G0'] = X_post_test[0]\n",
    "params_dic_SO['G_mut0'] = 0\n",
    "\n",
    "params_dic_SO['RL'] = X_post_test[1]\n",
    "params_dic_SO['Eff0'] = X_post_test[2]\n",
    "params_dic_SO['Eff_GAP0'] = X_post_test[3]\n",
    "params_dic_SO['RGS0'] = X_post_test[4]\n",
    "\n",
    "params_dic_SO['K_m1'] = X_post_test[10]\n",
    "\n",
    "params_dic_SO['k_at1'] = X_post_test[5]\n",
    "params_dic_SO['k_at2'] = X_post_test[6]\n",
    "params_dic_SO['k_at3'] = X_post_test[7]\n",
    "params_dic_SO['k_hyd2'] = X_post_test[8]\n",
    "\n",
    "[t_vec,G_vec,Ga_GTP_vec,Ga_GDP_vec,Ga_nf_vec,Eff_vec,Ga_GTP_Eff_vec,G_mut_vec,Ga_GTP_mut_vec,\n",
    " Ga_GDP_mut_vec,Ga_nf_mut_vec,Ga_GTP_Eff_mut_vec,Eff_GAP_vec,Ga_GTP_Eff_GAP_vec,Ga_GTP_Eff_GAP_mut_vec,\n",
    " Ga_GTP_bg_vec,Ga_GTP_bg_mut_vec,RGS_vec,Ga_GTP_RGS_vec,Ga_GTP_RGS_mut_vec] = gnaq_wt_and_mut_basal(**params_dic_SO)"
   ]
  },
  {
   "cell_type": "code",
   "execution_count": 65,
   "metadata": {},
   "outputs": [
    {
     "name": "stdout",
     "output_type": "stream",
     "text": [
      "WT Gq: 146.97265624999986\n",
      "WT Gq: 139.23886530914297 0.006735922553255184 3.4050843558675457 5.47230069580732e-05 2.6919030807285202 1.6239834383811 0.006029420319533352\n",
      "MUT Gq: 0.0\n",
      "MUT Gq: 0.0 0.0 0.0 0.0 0.0 0.0 0.0\n",
      "Effector: 34.16992187500003\n",
      "Effector: 31.47801879427151 2.6919030807285202 0.0\n",
      "Effector GAP: 96.33789062500003\n",
      "Effector GAP: 94.71390718661893 1.6239834383811 0.0\n",
      "RGS: 41.816406249999936\n",
      "RGS: 41.8103768296804 0.006029420319533352 0.0\n"
     ]
    }
   ],
   "source": [
    "#WT\n",
    "WT_active_trio_wt = Ga_GTP_Eff_vec[-1]\n",
    "WT_active_trio_mut =Ga_GTP_Eff_mut_vec[-1]\n",
    "WT_active_plcb_wt = Ga_GTP_Eff_GAP_vec[-1]\n",
    "WT_active_plcb_mut = Ga_GTP_Eff_GAP_mut_vec[-1]\n",
    "WT_hetG_wt = G_vec[-1]\n",
    "WT_hetG_mut = G_mut_vec[-1]\n",
    "WT_GaGTP_wt = Ga_GTP_vec[-1]\n",
    "WT_GaGTP_mut = Ga_GTP_mut_vec[-1]\n",
    "WT_GaGDP_wt = Ga_GDP_vec[-1]\n",
    "WT_GaGDP_mut = Ga_GDP_mut_vec[-1]\n",
    "\n",
    "#Conservation checks\n",
    "check_conservation()"
   ]
  },
  {
   "cell_type": "code",
   "execution_count": 66,
   "metadata": {},
   "outputs": [],
   "source": [
    "#Q209L\n",
    "params_dic_SO['G_tot'] = X_post_test[0]\n",
    "params_dic_SO['G0'] = X_post_test[0]*0.75\n",
    "params_dic_SO['G_mut0'] = X_post_test[0]*0.25\n",
    "\n",
    "params_dic_SO['RL'] = X_post_test[1]\n",
    "params_dic_SO['Eff0'] = X_post_test[2]\n",
    "params_dic_SO['Eff_GAP0'] = X_post_test[3]\n",
    "params_dic_SO['RGS0'] = X_post_test[4]\n",
    "\n",
    "params_dic_SO['K_m1'] = X_post_test[10]\n",
    "\n",
    "params_dic_SO['k_at1'] = X_post_test[5]\n",
    "params_dic_SO['k_at2'] = X_post_test[6]\n",
    "params_dic_SO['k_at3'] = X_post_test[7]\n",
    "params_dic_SO['k_hyd2'] = X_post_test[8]\n",
    "\n",
    "params_dic_SO['k_cat2_mut'] = X_post_test[9]\n",
    "params_dic_SO['k_hyd2_mut'] = X_post_test[9]\n",
    "params_dic_SO['k_hyd_mut'] = X_post_test[9]\n",
    "\n",
    "params_dic_SO['k_at1_mut'] = X_post_test[5]*X_post_test[11]\n",
    "params_dic_SO['k_at2_mut'] = X_post_test[6]*X_post_test[12]\n",
    "params_dic_SO['k_at3_mut'] = X_post_test[7]*1.33\n",
    "\n",
    "[t_vec,G_vec,Ga_GTP_vec,Ga_GDP_vec,Ga_nf_vec,Eff_vec,Ga_GTP_Eff_vec,G_mut_vec,Ga_GTP_mut_vec,\n",
    " Ga_GDP_mut_vec,Ga_nf_mut_vec,Ga_GTP_Eff_mut_vec,Eff_GAP_vec,Ga_GTP_Eff_GAP_vec,Ga_GTP_Eff_GAP_mut_vec,\n",
    " Ga_GTP_bg_vec,Ga_GTP_bg_mut_vec,RGS_vec,Ga_GTP_RGS_vec,Ga_GTP_RGS_mut_vec] = gnaq_wt_and_mut_basal(**params_dic_SO)"
   ]
  },
  {
   "cell_type": "code",
   "execution_count": 67,
   "metadata": {},
   "outputs": [
    {
     "name": "stdout",
     "output_type": "stream",
     "text": [
      "WT Gq: 110.22949218750686\n",
      "WT Gq: 107.2281157116817 0.00624017598608483 0.6175421870888854 9.927497142742376e-06 0.9989965075383411 1.3734169546484774 0.005170723066249523\n",
      "MUT Gq: 36.74316406250007\n",
      "MUT Gq: 4.514980407091934 0.033733612528427256 0.026002423494529362 4.379883005488902e-07 20.561009525874557 8.500576102670914 3.1068615528514156\n",
      "Effector: 34.16992187499996\n",
      "Effector: 12.609915841587057 0.9989965075383411 20.561009525874557\n",
      "Effector GAP: 96.33789062500117\n",
      "Effector GAP: 86.46389756768177 1.3734169546484774 8.500576102670914\n",
      "RGS: 41.816406250000036\n",
      "RGS: 38.70437397408237 0.005170723066249523 3.1068615528514156\n"
     ]
    }
   ],
   "source": [
    "#Conservation checks\n",
    "check_conservation()"
   ]
  },
  {
   "cell_type": "code",
   "execution_count": 68,
   "metadata": {},
   "outputs": [],
   "source": [
    "#Q209L\n",
    "QL_active_trio_wt = Ga_GTP_Eff_vec[-1]\n",
    "QL_active_trio_mut =Ga_GTP_Eff_mut_vec[-1]\n",
    "QL_active_plcb_wt = Ga_GTP_Eff_GAP_vec[-1]\n",
    "QL_active_plcb_mut = Ga_GTP_Eff_GAP_mut_vec[-1]\n",
    "QL_hetG_wt = G_vec[-1]\n",
    "QL_hetG_mut = G_mut_vec[-1]\n",
    "QL_GaGTP_wt = Ga_GTP_vec[-1]\n",
    "QL_GaGTP_mut = Ga_GTP_mut_vec[-1]\n",
    "QL_GaGDP_wt = Ga_GDP_vec[-1]\n",
    "QL_GaGDP_mut = Ga_GDP_mut_vec[-1]"
   ]
  },
  {
   "cell_type": "code",
   "execution_count": 69,
   "metadata": {},
   "outputs": [],
   "source": [
    "#CYSLTR2\n",
    "params_dic_SO['G_tot'] = X_post_test[0]\n",
    "params_dic_SO['G0'] = X_post_test[0]\n",
    "params_dic_SO['G_mut0'] = 0\n",
    "\n",
    "params_dic_SO['RL'] = (X_post_test[1]/2) + X_post_test[1]*(204/15.0)/2 #(X[1]/2.0)+(X[1]/2.0)*6\n",
    "params_dic_SO['Eff0'] = X_post_test[2]\n",
    "params_dic_SO['Eff_GAP0'] = X_post_test[3]\n",
    "params_dic_SO['RGS0'] = X_post_test[4]\n",
    "\n",
    "params_dic_SO['K_m1'] = X_post_test[10]\n",
    "\n",
    "params_dic_SO['k_at1'] = X_post_test[5]\n",
    "params_dic_SO['k_at2'] = X_post_test[6]\n",
    "params_dic_SO['k_at3'] = X_post_test[7]\n",
    "params_dic_SO['k_hyd2'] = X_post_test[8]\n",
    "\n",
    "params_dic_SO['k_cat2_mut'] = X_post_test[9]\n",
    "params_dic_SO['k_hyd2_mut'] = X_post_test[9]\n",
    "params_dic_SO['k_hyd_mut'] = X_post_test[9]\n",
    "\n",
    "params_dic_SO['k_at1_mut'] = X_post_test[5]\n",
    "params_dic_SO['k_at2_mut'] = X_post_test[6]\n",
    "params_dic_SO['k_at3_mut'] = X_post_test[7]\n",
    "\n",
    "[t_vec,G_vec,Ga_GTP_vec,Ga_GDP_vec,Ga_nf_vec,Eff_vec,Ga_GTP_Eff_vec,G_mut_vec,Ga_GTP_mut_vec,\n",
    " Ga_GDP_mut_vec,Ga_nf_mut_vec,Ga_GTP_Eff_mut_vec,Eff_GAP_vec,Ga_GTP_Eff_GAP_vec,Ga_GTP_Eff_GAP_mut_vec,\n",
    " Ga_GTP_bg_vec,Ga_GTP_bg_mut_vec,RGS_vec,Ga_GTP_RGS_vec,Ga_GTP_RGS_mut_vec] = gnaq_wt_and_mut_basal(**params_dic_SO)"
   ]
  },
  {
   "cell_type": "code",
   "execution_count": 70,
   "metadata": {},
   "outputs": [
    {
     "name": "stdout",
     "output_type": "stream",
     "text": [
      "WT Gq: 146.97265624999957\n",
      "WT Gq: 118.01598885664745 0.04894235027080303 5.096482587120919 8.192861138869796e-05 13.095004378372568 10.67238669749863 0.04376945147778603\n",
      "MUT Gq: 0.0\n",
      "MUT Gq: 0.0 0.0 0.0 0.0 0.0 0.0 0.0\n",
      "Effector: 34.169921875000014\n",
      "Effector: 21.07491749662745 13.095004378372568 0.0\n",
      "Effector GAP: 96.33789062500236\n",
      "Effector GAP: 85.66550392750372 10.67238669749863 0.0\n",
      "RGS: 41.81640624999998\n",
      "RGS: 41.77263679852219 0.04376945147778603 0.0\n"
     ]
    }
   ],
   "source": [
    "#Conservation checks\n",
    "check_conservation()"
   ]
  },
  {
   "cell_type": "code",
   "execution_count": 71,
   "metadata": {},
   "outputs": [],
   "source": [
    "#CYSLTR2\n",
    "CY_active_trio_wt = Ga_GTP_Eff_vec[-1]\n",
    "CY_active_trio_mut =Ga_GTP_Eff_mut_vec[-1]\n",
    "CY_active_plcb_wt = Ga_GTP_Eff_GAP_vec[-1]\n",
    "CY_active_plcb_mut = Ga_GTP_Eff_GAP_mut_vec[-1]\n",
    "CY_hetG_wt = G_vec[-1]\n",
    "CY_hetG_mut = G_mut_vec[-1]\n",
    "CY_GaGTP_wt = Ga_GTP_vec[-1]\n",
    "CY_GaGTP_mut = Ga_GTP_mut_vec[-1]\n",
    "CY_GaGDP_wt = Ga_GDP_vec[-1]\n",
    "CY_GaGDP_mut = Ga_GDP_mut_vec[-1]"
   ]
  },
  {
   "cell_type": "code",
   "execution_count": 72,
   "metadata": {},
   "outputs": [
    {
     "data": {
      "image/png": "[encoded data removed]",
      "text/plain": [
       "<Figure size 360x432 with 1 Axes>"
      ]
     },
     "metadata": {
      "needs_background": "light"
     },
     "output_type": "display_data"
    }
   ],
   "source": [
    "# bars1 = numpy.array([WT_active_trio_wt+WT_active_trio_mut,QL_active_trio_wt,QP_active_trio_wt])*100.0/total_eff\n",
    "# bars2 = numpy.array([0,QL_active_trio_mut,QP_active_trio_mut])*100.0/total_eff\n",
    "bars1 = numpy.array([WT_active_trio_wt+WT_active_trio_mut,QL_active_trio_wt,CY_active_trio_wt+CY_active_trio_mut])#*100.0/total_eff\n",
    "bars2 = numpy.array([0,QL_active_trio_mut,0])#*100.0/total_eff\n",
    "# bars1 = numpy.array([WT_active_trio_wt+WT_active_trio_mut,QL_active_trio_wt,QP_active_trio_wt,CY_active_trio_wt+CY_active_trio_mut])*100.0/total_eff\n",
    "# bars2 = numpy.array([0,QL_active_trio_mut,QP_active_trio_mut,0])*100.0/total_eff\n",
    "bars3 = (bars1 + bars2)\n",
    "bars3 = bars3/bars3[0]\n",
    "#bars3 = bars3*100.0/X_post_test[2]\n",
    "\n",
    "r = [0,1,2]\n",
    "# r = [0,1,2,3]\n",
    "\n",
    "# names = ['WT/WT','WT/Q209L','WT/Q209P']\n",
    "names = ['WT/WT','WT/Q209L','WT/CYSLTR2']\n",
    "#names = ['WT/WT','WT/Q209L','WT/Q209P','WT/CYSLTR2']\n",
    "# names = ['WT','Q209L','Q209P','CYSLTR2']\n",
    "barWidth = 0.5\n",
    "\n",
    "fig,ax = plt.subplots(figsize=(5,6))\n",
    "\n",
    "#ax.bar(r, bars3, color='k', edgecolor='white', width=barWidth,label='WT active TRIO',alpha=1.0)\n",
    "ax.bar(r, bars3, color=(0,1,1), edgecolor='white', width=barWidth,label='WT active TRIO',alpha=0.5)\n",
    "# plt.bar(r, bars1, color='#7f6d5f', edgecolor='white', width=barWidth,label='WT active TRIO',alpha=0.5)\n",
    "# plt.bar(r, bars2, bottom=bars1, color=(0,1,1), edgecolor='white', width=barWidth,label='mut active TRIO',alpha=0.5)\n",
    "\n",
    "#plt.ylim([0,45])\n",
    "plt.xlim([-0.5,2.5])\n",
    "\n",
    "plt.xticks([0,1,2],[],size=15)#,fontweight='bold')\n",
    "\n",
    "plt.xticks(r, names,size=15)#,fontweight='bold')\n",
    "plt.yticks([0,2,4,6,8,10],size=25)\n",
    "\n",
    "# change all spines\n",
    "for axis in ['top','bottom','left','right']:\n",
    "    ax.spines[axis].set_linewidth(1.5)\n",
    "ax.spines['top'].set_visible(False)\n",
    "ax.spines['right'].set_visible(False)\n",
    "\n",
    "# increase tick width\n",
    "ax.tick_params(length=7,width=1.5)\n",
    "\n",
    "plt.ylabel('Active TRIO [fold]',size=25)\n",
    "\n",
    "#plt.legend(loc='upper left',fontsize=15)\n",
    "plt.tight_layout()\n",
    "\n",
    "#plt.savefig('./bound_trio_bar_chart.pdf',transparent='True')\n",
    "#plt.savefig('./GNAQ_figures/bound_trio_bar_chart_trio_deficient_v2.svg',dpi=200,transparent='True')\n",
    "# plt.savefig('./GNAQ_figures/bound_trio_bar_chart.png',dpi=200,transparent='True')\n",
    "# plt.savefig('./GNAQ_figures/bound_trio_bar_chart_agonist.svg',dpi=200,transparent='True')"
   ]
  },
  {
   "cell_type": "code",
   "execution_count": 73,
   "metadata": {},
   "outputs": [
    {
     "data": {
      "image/png": "[encoded data removed]",
      "text/plain": [
       "<Figure size 360x432 with 1 Axes>"
      ]
     },
     "metadata": {
      "needs_background": "light"
     },
     "output_type": "display_data"
    }
   ],
   "source": [
    "# bars1 = numpy.array([WT_active_plcb_wt+WT_active_plcb_mut,QL_active_plcb_wt,QP_active_plcb_wt])*100.0/total_effg\n",
    "# bars2 = numpy.array([0,QL_active_plcb_mut,QP_active_plcb_mut])*100.0/total_effg\n",
    "bars1 = numpy.array([WT_active_plcb_wt+WT_active_plcb_mut,QL_active_plcb_wt,CY_active_plcb_wt+CY_active_plcb_mut])#*100.0/total_effg\n",
    "bars2 = numpy.array([0,QL_active_plcb_mut,0])#*100.0/total_effg\n",
    "# bars1 = numpy.array([WT_active_plcb_wt+WT_active_plcb_mut,QL_active_plcb_wt,QP_active_plcb_wt,CY_active_plcb_wt+CY_active_plcb_mut])*100.0/total_effg\n",
    "# bars2 = numpy.array([0,QL_active_plcb_mut,QP_active_plcb_mut,0])*100.0/total_effg\n",
    "bars3 = (bars1 + bars2)\n",
    "bars3 = bars3/bars3[0]\n",
    "#bars3 = bars3*100.0/X_post_test[3]\n",
    "\n",
    "r = [0,1,2]\n",
    "# r = [0,1,2,3]\n",
    "\n",
    "# names = ['WT/WT','WT/Q209L','WT/Q209P']\n",
    "names = ['WT/WT','WT/Q209L','WT/CYSLTR2']\n",
    "#names = ['WT/WT','WT/Q209L','WT/Q209P','WT/CYSLTR2']\n",
    "# names = ['WT','Q209L','Q209P','CYSLTR2']\n",
    "barWidth = 0.5\n",
    "\n",
    "fig,ax = plt.subplots(figsize=(5,6))\n",
    "\n",
    "#ax.bar(r, bars3, color='k', edgecolor='white', width=barWidth,label='WT active PLCB',alpha=1.0)\n",
    "ax.bar(r, bars3, color=(1,0,165/255.0), edgecolor='white', width=barWidth,label='WT active PLCB',alpha=0.5)\n",
    "# plt.bar(r, bars1, color='#7f6d5f', edgecolor='white', width=barWidth,label='WT active PLCB',alpha=0.5)\n",
    "# plt.bar(r, bars2, bottom=bars1, color=(1,0,165/255.0), edgecolor='white', width=barWidth,label='mut active PLCB',alpha=0.5)\n",
    "\n",
    "#plt.ylim([0,3.5])\n",
    "plt.xlim([-0.5,2.5])\n",
    "\n",
    "plt.xticks([0,1,2],[],size=15)#,fontweight='bold')\n",
    "plt.xticks(r, names,size=15)\n",
    "plt.yticks([0,2,4,6,8],size=25)\n",
    "#plt.yticks([0,10,20,30],size=25)\n",
    "\n",
    "# change all spines\n",
    "for axis in ['top','bottom','left','right']:\n",
    "    ax.spines[axis].set_linewidth(1.5)\n",
    "ax.spines['top'].set_visible(False)\n",
    "ax.spines['right'].set_visible(False)\n",
    "\n",
    "# increase tick width\n",
    "ax.tick_params(length=7,width=1.5)\n",
    "\n",
    "plt.ylabel('Active PLCB [fold]',size=25)\n",
    "\n",
    "#plt.legend(loc='upper left',fontsize=15)\n",
    "plt.tight_layout()\n",
    "\n",
    "#plt.savefig('./bound_plcb_bar_chart.pdf',transparent='True')\n",
    "#plt.savefig('./GNAQ_figures/bound_plcb_bar_chart.pdf',transparent='True')\n",
    "#plt.savefig('./GNAQ_figures/bound_plcb_bar_chart_trio_deficient_v2.svg',dpi=200,transparent='True')\n",
    "# plt.savefig('./GNAQ_figures/bound_plcb_bar_chart.png',dpi=200,transparent='True')\n",
    "# plt.savefig('./GNAQ_figures/bound_plcb_bar_chart_agonist.svg',dpi=200,transparent='True')"
   ]
  },
  {
   "cell_type": "markdown",
   "metadata": {},
   "source": [
    "## Model of GDI Drug"
   ]
  },
  {
   "cell_type": "code",
   "execution_count": 74,
   "metadata": {},
   "outputs": [],
   "source": [
    "#Model with RGS as an explicit species\n",
    "def gnaq_wt_and_mut_basal_FR(k_G1=0.0825,k_G1_mut=0.0825,\n",
    "                             k_G2=0.0,k_G2_mut=0.0,\n",
    "                             k_dG1=0.0027,k_dG2=0.0027*100,\n",
    "                             k_at1=0.498,k_at1_mut=0.498,k_dt1=0.3,\n",
    "                             k_at2=0.498,k_at2_mut=0.498,k_dt2=0.3,\n",
    "                             k_at3=0.498,k_at3_mut=0.498,k_dt3=0.3,\n",
    "                             k_cat1=10.0,K_m1=500,\n",
    "                             k_cat2=25.0,k_cat2_mut=25.0,\n",
    "                             k_hyd2=10.0,k_hyd2_mut=10.0,\n",
    "                             k_hyd=0.013,k_hyd_mut=0.013,\n",
    "                             k_afr=0.0825*10,k_dfr=0.0027,FR0=100,Ga_GDP_FR0=0,Ga_GDP_mut_FR0=0,G_FR0=0,G_mut_FR0=0,\n",
    "                             ka_gtp=1.1*10**5,kd_gtp=1.3*10**-5,ka_gdp=1.1*10**5,kd_gdp=3.5*10**-4,GTP=1.8*10**-4,GDP=1.8*10**-5,\n",
    "                             RL=1.0,RGS=1.0,G_tot=200,\n",
    "                             y0_in=None,\n",
    "                             G0=100,Ga_GTP0=0,Ga_GDP0=0,Ga_nf0=0,Eff0=30,Ga_GTP_Eff0=0,\n",
    "                             G_mut0=100,Ga_GTP_mut0=0,Ga_GDP_mut0=0,Ga_nf_mut0=0,Ga_GTP_Eff_mut0=0,\n",
    "                             RGS0=40,Ga_GTP_RGS0=0,Ga_GTP_RGS_mut0=0,\n",
    "                             Eff_GAP0=30,Ga_GTP_Eff_GAP0=0,Ga_GTP_Eff_GAP_mut0=0,Ga_GTP_bg0=0,Ga_GTP_bg_mut0=0,\n",
    "                             t_end=1000,dt=0.1):\n",
    "    def fmut(t,y):\n",
    "        G = y[0]\n",
    "        Ga_GTP = y[1]\n",
    "        Ga_GDP = y[2]\n",
    "        Ga_nf = y[3]\n",
    "        Eff = y[4]\n",
    "        Ga_GTP_Eff = y[5]\n",
    "\n",
    "        G_mut = y[6]\n",
    "        Ga_GTP_mut = y[7]\n",
    "        Ga_GDP_mut = y[8]\n",
    "        Ga_nf_mut = y[9]\n",
    "        Ga_GTP_Eff_mut = y[10]\n",
    "        \n",
    "        Eff_GAP = y[11]\n",
    "        Ga_GTP_Eff_GAP = y[12]\n",
    "        Ga_GTP_Eff_GAP_mut = y[13]\n",
    "        \n",
    "        Ga_GTP_bg = y[14]\n",
    "        Ga_GTP_bg_mut = y[15]\n",
    "        \n",
    "        RGS = y[16]\n",
    "        Ga_GTP_RGS = y[17]\n",
    "        Ga_GTP_RGS_mut = y[18]\n",
    "        \n",
    "        FR = y[19]\n",
    "        Ga_GDP_FR = y[20]\n",
    "        Ga_GDP_mut_FR = y[21]\n",
    "        G_FR = y[22]\n",
    "        G_mut_FR = y[23]\n",
    "\n",
    "        Gbg = G_tot-G-G_mut-G_FR-G_mut_FR\n",
    "        \n",
    "        R0 = k_dG1*G - k_G1*Ga_GDP*Gbg\n",
    "        R0_mut = k_dG1*G_mut - k_G1_mut*Ga_GDP_mut*Gbg\n",
    "        R00 = k_dG2*Ga_GTP_bg - k_G2*Ga_GTP*Gbg\n",
    "        R00_mut = k_dG2*Ga_GTP_bg_mut - k_G2_mut*Ga_GTP_mut*Gbg\n",
    "        \n",
    "        R1 = k_cat1*RL*G/(K_m1*(1+G_mut/K_m1)+G)\n",
    "        R1_mut = k_cat1*RL*G_mut/(K_m1*(1+G/K_m1)+G_mut) \n",
    "        \n",
    "        R2 = k_hyd*Ga_GTP\n",
    "        R2_mut = k_hyd_mut*Ga_GTP_mut\n",
    "        R3 = k_hyd*Ga_GTP_Eff\n",
    "        R3_mut = k_hyd_mut*Ga_GTP_Eff_mut\n",
    "        R4 = k_hyd*Ga_GTP_Eff_GAP\n",
    "        R4_mut = k_hyd_mut*Ga_GTP_Eff_GAP_mut\n",
    "        \n",
    "        R5 = k_dt1*Ga_GTP_Eff_GAP - k_at1*Ga_GTP*Eff_GAP\n",
    "        R5_mut = k_dt1*Ga_GTP_Eff_GAP_mut - k_at1_mut*Ga_GTP_mut*Eff_GAP\n",
    "        R6 = k_dt2*Ga_GTP_Eff - k_at2*Ga_GTP*Eff\n",
    "        R6_mut = k_dt2*Ga_GTP_Eff_mut - k_at2_mut*Ga_GTP_mut*Eff\n",
    "        \n",
    "        R7 = kd_gtp*Ga_GTP - ka_gtp*GTP*Ga_nf\n",
    "        R7_mut = kd_gtp*Ga_GTP_mut - ka_gtp*GTP*Ga_nf_mut\n",
    "        R8 = kd_gdp*Ga_GDP - ka_gdp*GDP*Ga_nf\n",
    "        R8_mut = kd_gdp*Ga_GDP_mut - ka_gdp*GDP*Ga_nf_mut\n",
    "        \n",
    "#         R9 = k_cat2*RGS*Ga_GTP/(K_m2*(1+Ga_GTP_mut/K_m2_mut)+Ga_GTP)\n",
    "#         R9_mut = k_cat2_mut*RGS*Ga_GTP_mut/(K_m2_mut*(1+Ga_GTP/K_m2)+Ga_GTP_mut)\n",
    "        R9 = k_dt3*Ga_GTP_RGS - k_at3*Ga_GTP*RGS\n",
    "        R9_mut = k_dt3*Ga_GTP_RGS_mut - k_at3_mut*Ga_GTP_mut*RGS\n",
    "        R99 = k_cat2*Ga_GTP_RGS\n",
    "        R99_mut = k_cat2_mut*Ga_GTP_RGS_mut\n",
    "        R999 = k_hyd*Ga_GTP_RGS\n",
    "        R999_mut = k_hyd_mut*Ga_GTP_RGS_mut\n",
    "        \n",
    "        R10 = k_hyd2*Ga_GTP_Eff_GAP\n",
    "        R10_mut = k_hyd2_mut*Ga_GTP_Eff_GAP_mut\n",
    "        \n",
    "        #Fully cell permeable\n",
    "        R11 = k_dfr*Ga_GDP_FR - k_afr*FR0*Ga_GDP\n",
    "        R11_mut = k_dfr*Ga_GDP_mut_FR - k_afr*FR0*Ga_GDP_mut\n",
    "        R12 = k_dG1*G_FR - k_G1*Ga_GDP_FR*Gbg\n",
    "        R12_mut = k_dG1*G_mut_FR - k_G1*Ga_GDP_mut_FR*Gbg\n",
    "        R13 = k_dfr*G_FR - k_afr*FR0*G\n",
    "        R13_mut = k_dfr*G_mut_FR - k_afr*FR0*G_mut\n",
    "        \n",
    "        #Zero cell permeable\n",
    "#         R11 = k_dfr*Ga_GDP_FR - k_afr*FR*Ga_GDP\n",
    "#         R11_mut = k_dfr*Ga_GDP_mut_FR - k_afr*FR*Ga_GDP_mut\n",
    "#         R12 = k_dG1*G_FR - k_G1*Ga_GDP_FR*Gbg\n",
    "#         R12_mut = k_dG1*G_mut_FR - k_G1*Ga_GDP_mut_FR*Gbg\n",
    "#         R13 = k_dfr*G_FR - k_afr*FR*G\n",
    "#         R13_mut = k_dfr*G_mut_FR - k_afr*FR*G_mut\n",
    "        \n",
    "        res_0 =  - R0 - R1 + R13 #G\n",
    "        res_1 = R1 - R2 + R5 + R6 - R7 + R00 + R9 #GaGTP\n",
    "        res_2 = R0 + R2 + R3 + R4 + R10 - R8 + R99 + R999 + R11 #GaGDP\n",
    "        res_3 = R7 + R8 #GaNF\n",
    "        res_4 = R6 + R6_mut + R3 + R3_mut #Eff\n",
    "        res_5 = - R6 - R3 #GaGTP-Eff\n",
    "        \n",
    "        res_6 = - R0_mut - R1_mut + R13_mut #G_mut\n",
    "        res_7 = R1_mut - R2_mut + R5_mut + R6_mut - R7_mut + R00_mut + R9_mut #GaGTP_mut\n",
    "        res_8 = R0_mut + R2_mut + R3_mut + R4_mut + R10_mut - R8_mut + R99_mut + R999_mut + R11_mut #GaGDP_mut\n",
    "        res_9 = R7_mut + R8_mut #GaNF_mut\n",
    "        res_10 = - R6_mut - R3_mut #GaGTP-Eff_mut\n",
    "        \n",
    "        res_11 = R5 + R5_mut + R10 + R10_mut + R4 + R4_mut #EffGAP\n",
    "        res_12 = - R5 - R4 - R10 #GaGTP-EffGAP\n",
    "        res_13 = - R5_mut - R4_mut - R10_mut #GaGTP-EffGAP_mut\n",
    "        \n",
    "        res_14 = - R00 #GaGTPbg\n",
    "        res_15 = - R00_mut #GaGTPbg_mut\n",
    "                                                                                   \n",
    "        res_16 = R9 + R9_mut + R99 + R99_mut + R999 + R999_mut #RGS\n",
    "        res_17 = - R9 - R99 - R999 #GaGTP-RGS\n",
    "        res_18 = - R9_mut - R99_mut - R999_mut #GaGTP-RGS_mut\n",
    "        \n",
    "        res_19 = R11 + R11_mut + R13 + R13_mut#FR\n",
    "        res_20 = - R11 + R12 #GaGDP-FR\n",
    "        res_21 = - R11_mut + R12_mut #GaGDP_mut-FR\n",
    "        res_22 = - R12 - R13#G-FR\n",
    "        res_23 = - R12_mut - R13_mut #G_mut-FR\n",
    "\n",
    "        return [res_0,res_1,res_2,res_3,res_4,res_5,res_6,res_7,res_8,res_9,res_10,\n",
    "                res_11,res_12,res_13,res_14,res_15,res_16,res_17,res_18,\n",
    "                res_19,res_20,res_21,res_22,res_23]\n",
    "    \n",
    "    if y0_in is None:\n",
    "        y0, t0 = [G0,Ga_GTP0,Ga_GDP0,Ga_nf0,Eff0,Ga_GTP_Eff0,G_mut0,Ga_GTP_mut0,Ga_GDP_mut0,Ga_nf_mut0,Ga_GTP_Eff_mut0,Eff_GAP0,Ga_GTP_Eff_GAP0,\n",
    "                 Ga_GTP_Eff_GAP_mut0,Ga_GTP_bg0,Ga_GTP_bg_mut0,RGS0,Ga_GTP_RGS0,Ga_GTP_RGS_mut0,FR0,Ga_GDP_FR0,Ga_GDP_mut_FR0,G_FR0,G_mut_FR0], 0\n",
    "    else:\n",
    "        y0, t0 = y0_in, 0\n",
    "    r = scipy.integrate.ode(fmut).set_integrator('lsoda', method='bdf', with_jacobian=False)\n",
    "    r.set_initial_value(y0, t0)\n",
    "    \n",
    "    t_vec = []\n",
    "    G_vec = []\n",
    "    Ga_GTP_vec = []\n",
    "    Ga_GDP_vec = []\n",
    "    Ga_nf_vec = []\n",
    "    Eff_vec = []\n",
    "    Ga_GTP_Eff_vec = []\n",
    "\n",
    "    G_mut_vec = []\n",
    "    Ga_GTP_mut_vec = []\n",
    "    Ga_GDP_mut_vec = []\n",
    "    Ga_nf_mut_vec = []\n",
    "    Ga_GTP_Eff_mut_vec = []\n",
    "    \n",
    "    Eff_GAP_vec = []\n",
    "    Ga_GTP_Eff_GAP_vec = []\n",
    "    Ga_GTP_Eff_GAP_mut_vec = []\n",
    "    \n",
    "    Ga_GTP_bg_vec = []\n",
    "    Ga_GTP_bg_mut_vec = []\n",
    "                                                                                   \n",
    "    RGS_vec = []\n",
    "    Ga_GTP_RGS_vec = []\n",
    "    Ga_GTP_RGS_mut_vec = []\n",
    "    \n",
    "    FR_vec = []\n",
    "    Ga_GDP_FR_vec = []\n",
    "    Ga_GDP_mut_FR_vec = []\n",
    "    G_FR_vec = []\n",
    "    G_mut_FR_vec = []\n",
    "    \n",
    "    count = 1\n",
    "    dmet = 1.0\n",
    "    yprev = y0\n",
    "    wtol = 1e-30\n",
    "\n",
    "    while r.successful() and r.t < t_end and numpy.dot(dmet,dmet)>wtol:\n",
    "        if r.t==0 or not count%100:\n",
    "            t_vec.append(r.t)\n",
    "            G_vec.append(r.y[0])\n",
    "            Ga_GTP_vec.append(r.y[1])\n",
    "            Ga_GDP_vec.append(r.y[2])\n",
    "            Ga_nf_vec.append(r.y[3])\n",
    "            Eff_vec.append(r.y[4])\n",
    "            Ga_GTP_Eff_vec.append(r.y[5])\n",
    "            G_mut_vec.append(r.y[6])\n",
    "            Ga_GTP_mut_vec.append(r.y[7])\n",
    "            Ga_GDP_mut_vec.append(r.y[8])\n",
    "            Ga_nf_mut_vec.append(r.y[9])\n",
    "            Ga_GTP_Eff_mut_vec.append(r.y[10])\n",
    "            Eff_GAP_vec.append(r.y[11])\n",
    "            Ga_GTP_Eff_GAP_vec.append(r.y[12])\n",
    "            Ga_GTP_Eff_GAP_mut_vec.append(r.y[13])\n",
    "            Ga_GTP_bg_vec.append(r.y[14])\n",
    "            Ga_GTP_bg_mut_vec.append(r.y[15])\n",
    "            RGS_vec.append(r.y[16])\n",
    "            Ga_GTP_RGS_vec.append(r.y[17])\n",
    "            Ga_GTP_RGS_mut_vec.append(r.y[18])\n",
    "            FR_vec.append(r.y[19])\n",
    "            Ga_GDP_FR_vec.append(r.y[20])\n",
    "            Ga_GDP_mut_FR_vec.append(r.y[21])\n",
    "            G_FR_vec.append(r.y[22])\n",
    "            G_mut_FR_vec.append(r.y[23])\n",
    "        r.integrate(r.t+dt)\n",
    "        dmet = r.y - yprev\n",
    "        #print(numpy.dot(dmet,dmet))\n",
    "        yprev = r.y\n",
    "        count=count+1\n",
    "        \n",
    "        if r.t>=t_end:\n",
    "            print('Reached the end!')\n",
    "        \n",
    "    return [t_vec,G_vec,Ga_GTP_vec,Ga_GDP_vec,Ga_nf_vec,Eff_vec,Ga_GTP_Eff_vec,G_mut_vec,Ga_GTP_mut_vec,\n",
    "            Ga_GDP_mut_vec,Ga_nf_mut_vec,Ga_GTP_Eff_mut_vec,Eff_GAP_vec,Ga_GTP_Eff_GAP_vec,Ga_GTP_Eff_GAP_mut_vec,\n",
    "            Ga_GTP_bg_vec,Ga_GTP_bg_mut_vec,RGS_vec,Ga_GTP_RGS_vec,Ga_GTP_RGS_mut_vec,\n",
    "            FR_vec,Ga_GDP_FR_vec,Ga_GDP_mut_FR_vec,G_FR_vec,G_mut_FR_vec]"
   ]
  },
  {
   "cell_type": "code",
   "execution_count": 75,
   "metadata": {},
   "outputs": [],
   "source": [
    "# Model with RGS as explicit species, Standard heterozygous or homozygous\n",
    "#WT\n",
    "params_dic_WR = {'G_tot':total_g,'G0':total_g,'G_mut0':0,\n",
    "                 'Eff0':total_eff,'Eff_GAP0':total_effg,\n",
    "                 'RL':RL_base,'RGS0':40,\n",
    "                 'K_m1':250.0,\n",
    "                 'k_afr':0.0825*10/250.0,'k_dfr':0.0027,\n",
    "                 'k_at3':0.498/6,\n",
    "                 'k_hyd2':khyd_plcb_wt,\n",
    "                 't_end':5000000,'dt':0.1}\n",
    "#Q209L (quantification of Maziarz data)\n",
    "params_dic_LR = {'G_tot':total_g,'G0':g_wt_het,'G_mut0':g_mut_het,\n",
    "                 'Eff0':total_eff,'Eff_GAP0':total_effg,\n",
    "                 'RL':RL_base,'RGS0':40,\n",
    "                 'K_m1':250.0,\n",
    "                 'k_afr':0.0825*10/250.0,'k_dfr':0.0027,\n",
    "                 'k_at3':0.498/6,'k_at3_mut':0.498*1.33/6,\n",
    "                 'k_hyd2':khyd_plcb_wt,\n",
    "                 'k_cat2_mut':0.013/140,\n",
    "                 'k_hyd2_mut':0.013/140,\n",
    "                 'k_at1_mut':0.498*0.95,'k_at2_mut':0.498*1.1,'k_hyd_mut':0.013/140,\n",
    "                 't_end':5000000,'dt':0.1}\n",
    "\n",
    "#R183C\n",
    "params_dic_PR = {'G_tot':total_g,'G0':g_wt_het,'G_mut0':g_mut_het,\n",
    "                 'Eff0':total_eff,'Eff_GAP0':total_effg,\n",
    "                 'RL':RL_base,'RGS0':40,\n",
    "                 'K_m1':250.0,\n",
    "                 'k_afr':0.0825*10/250.0,'k_dfr':0.0027,\n",
    "                 'k_at3':0.498/6,'k_at3_mut':0.498/6,\n",
    "                 'k_hyd2':khyd_plcb_wt,\n",
    "                 'k_cat2_mut':0.013*110/140,\n",
    "                 'k_hyd2_mut':0.013*7/140,\n",
    "                 'k_at1_mut':0.498,'k_at2_mut':0.498,'k_hyd_mut':0.013/140,\n",
    "                 't_end':5000000,'dt':0.1}"
   ]
  },
  {
   "cell_type": "code",
   "execution_count": 76,
   "metadata": {},
   "outputs": [],
   "source": [
    "# Updated parameters based on experiments and sensitivity analysis (see below)\n",
    "# khyd_plcb_update = 0.013*15\n",
    "# params_dic_WR['k_hyd2'] = khyd_plcb_update\n",
    "# params_dic_LR['k_hyd2'] = khyd_plcb_update\n",
    "# params_dic_PR['k_hyd2'] = khyd_plcb_update\n",
    "\n",
    "# params_dic_LR['k_at1_mut'] = 0.498*0.5\n",
    "# params_dic_LR['k_at2_mut'] = 0.498*2"
   ]
  },
  {
   "cell_type": "code",
   "execution_count": 77,
   "metadata": {
    "collapsed": false,
    "jupyter": {
     "outputs_hidden": false
    }
   },
   "outputs": [
    {
     "name": "stdout",
     "output_type": "stream",
     "text": [
      "CPU times: user 1min 55s, sys: 3.03 s, total: 1min 58s\n",
      "Wall time: 1min 59s\n"
     ]
    }
   ],
   "source": [
    "%%time\n",
    "resolution = 21\n",
    "\n",
    "resp_list_WR=numpy.zeros(resolution)\n",
    "resp_list_LR=numpy.zeros(resolution)\n",
    "resp_list_PR=numpy.zeros(resolution)\n",
    "\n",
    "resp_list_WR2=numpy.zeros(resolution)\n",
    "resp_list_LR2=numpy.zeros(resolution)\n",
    "resp_list_PR2=numpy.zeros(resolution)\n",
    "\n",
    "resp_list_WR3=numpy.zeros(resolution)\n",
    "resp_list_LR3=numpy.zeros(resolution)\n",
    "resp_list_PR3=numpy.zeros(resolution)\n",
    "\n",
    "resp_list_WR4=numpy.zeros(resolution)\n",
    "resp_list_LR4=numpy.zeros(resolution)\n",
    "resp_list_PR4=numpy.zeros(resolution)\n",
    "\n",
    "resp_list_WR5=numpy.zeros(resolution)\n",
    "resp_list_LR5=numpy.zeros(resolution)\n",
    "resp_list_PR5=numpy.zeros(resolution)\n",
    "\n",
    "resp_list_LR4wt=numpy.zeros(resolution)\n",
    "resp_list_LR4mut=numpy.zeros(resolution)\n",
    "resp_list_PR4wt=numpy.zeros(resolution)\n",
    "resp_list_PR4mut=numpy.zeros(resolution)\n",
    "\n",
    "FR_moles = 10**numpy.linspace(-11,-5,resolution)\n",
    "FR_list = FR_moles*6.022*10**23*10**-15*3000/1256\n",
    "\n",
    "for i,FR in enumerate(FR_list):\n",
    "    params_dic_WR['FR0'] = FR\n",
    "    [t_vec,G_vec,Ga_GTP_vec,Ga_GDP_vec,Ga_nf_vec,Eff_vec,Ga_GTP_Eff_vec,G_mut_vec,Ga_GTP_mut_vec,\n",
    "     Ga_GDP_mut_vec,Ga_nf_mut_vec,Ga_GTP_Eff_mut_vec,Eff_GAP_vec,Ga_GTP_Eff_GAP_vec,Ga_GTP_Eff_GAP_mut_vec,\n",
    "     Ga_GTP_bg_vec,Ga_GTP_bg_mut_vec,RGS_vec,Ga_GTP_RGS_vec,Ga_GTP_RGS_mut_vec,\n",
    "     FR_vec,Ga_GDP_FR_vec,Ga_GDP_mut_FR_vec,G_FR_vec,G_mut_FR_vec] = gnaq_wt_and_mut_basal_FR(**params_dic_WR)\n",
    "    \n",
    "    resp_list_WR[i] = G_vec[-1] + G_mut_vec[-1] + G_FR_vec[-1] + G_mut_FR_vec[-1]\n",
    "    resp_list_WR2[i] = Ga_GTP_Eff_vec[-1] + Ga_GTP_Eff_mut_vec[-1]\n",
    "    resp_list_WR3[i] = Ga_GTP_Eff_GAP_vec[-1] + Ga_GTP_Eff_GAP_mut_vec[-1]\n",
    "    resp_list_WR4[i] = Ga_GTP_Eff_vec[-1] + Ga_GTP_Eff_mut_vec[-1] + Ga_GTP_Eff_GAP_vec[-1] + Ga_GTP_Eff_GAP_mut_vec[-1]\n",
    "    #resp_list_WR5[i] = Ga_GDP_FR_vec[-1]\n",
    "    resp_list_WR5[i] = Ga_GTP_RGS_vec[-1] + Ga_GTP_RGS_mut_vec[-1]\n",
    "    \n",
    "    params_dic_LR['FR0'] = FR\n",
    "    [t_vec,G_vec,Ga_GTP_vec,Ga_GDP_vec,Ga_nf_vec,Eff_vec,Ga_GTP_Eff_vec,G_mut_vec,Ga_GTP_mut_vec,\n",
    "     Ga_GDP_mut_vec,Ga_nf_mut_vec,Ga_GTP_Eff_mut_vec,Eff_GAP_vec,Ga_GTP_Eff_GAP_vec,Ga_GTP_Eff_GAP_mut_vec,\n",
    "     Ga_GTP_bg_vec,Ga_GTP_bg_mut_vec,RGS_vec,Ga_GTP_RGS_vec,Ga_GTP_RGS_mut_vec,\n",
    "     FR_vec,Ga_GDP_FR_vec,Ga_GDP_mut_FR_vec,G_FR_vec,G_mut_FR_vec] = gnaq_wt_and_mut_basal_FR(**params_dic_LR)\n",
    "    \n",
    "    resp_list_LR[i] = G_vec[-1] + G_mut_vec[-1] + G_FR_vec[-1] + G_mut_FR_vec[-1]\n",
    "    resp_list_LR2[i] = Ga_GTP_Eff_vec[-1] + Ga_GTP_Eff_mut_vec[-1]\n",
    "    resp_list_LR3[i] = Ga_GTP_Eff_GAP_vec[-1] + Ga_GTP_Eff_GAP_mut_vec[-1]\n",
    "    resp_list_LR4[i] = Ga_GTP_Eff_vec[-1] + Ga_GTP_Eff_mut_vec[-1] + Ga_GTP_Eff_GAP_vec[-1] + Ga_GTP_Eff_GAP_mut_vec[-1]\n",
    "    #resp_list_LR5[i] = Ga_GDP_FR_vec[-1]\n",
    "    resp_list_LR5[i] = Ga_GTP_RGS_vec[-1] + Ga_GTP_RGS_mut_vec[-1]\n",
    "    \n",
    "    resp_list_LR4wt[i] = Ga_GTP_Eff_vec[-1] + Ga_GTP_Eff_GAP_vec[-1]\n",
    "    resp_list_LR4mut[i] = Ga_GTP_Eff_mut_vec[-1] + Ga_GTP_Eff_GAP_mut_vec[-1]\n",
    "    \n",
    "    params_dic_PR['FR0'] = FR\n",
    "    [t_vec,G_vec,Ga_GTP_vec,Ga_GDP_vec,Ga_nf_vec,Eff_vec,Ga_GTP_Eff_vec,G_mut_vec,Ga_GTP_mut_vec,\n",
    "     Ga_GDP_mut_vec,Ga_nf_mut_vec,Ga_GTP_Eff_mut_vec,Eff_GAP_vec,Ga_GTP_Eff_GAP_vec,Ga_GTP_Eff_GAP_mut_vec,\n",
    "     Ga_GTP_bg_vec,Ga_GTP_bg_mut_vec,RGS_vec,Ga_GTP_RGS_vec,Ga_GTP_RGS_mut_vec,\n",
    "     FR_vec,Ga_GDP_FR_vec,Ga_GDP_mut_FR_vec,G_FR_vec,G_mut_FR_vec] = gnaq_wt_and_mut_basal_FR(**params_dic_PR)\n",
    "    \n",
    "    resp_list_PR[i] = G_vec[-1] + G_mut_vec[-1] + G_FR_vec[-1] + G_mut_FR_vec[-1]\n",
    "    resp_list_PR2[i] = Ga_GTP_Eff_vec[-1] + Ga_GTP_Eff_mut_vec[-1]\n",
    "    resp_list_PR3[i] = Ga_GTP_Eff_GAP_vec[-1] + Ga_GTP_Eff_GAP_mut_vec[-1]\n",
    "    resp_list_PR4[i] = Ga_GTP_Eff_vec[-1] + Ga_GTP_Eff_mut_vec[-1] + Ga_GTP_Eff_GAP_vec[-1] + Ga_GTP_Eff_GAP_mut_vec[-1]\n",
    "    #resp_list_PR5[i] = Ga_GDP_FR_vec[-1]\n",
    "    resp_list_PR5[i] = Ga_GTP_RGS_vec[-1] + Ga_GTP_RGS_mut_vec[-1]\n",
    "    \n",
    "    resp_list_PR4wt[i] = Ga_GTP_Eff_vec[-1] + Ga_GTP_Eff_GAP_vec[-1]\n",
    "    resp_list_PR4mut[i] = Ga_GTP_Eff_mut_vec[-1] + Ga_GTP_Eff_GAP_mut_vec[-1]"
   ]
  },
  {
   "cell_type": "code",
   "execution_count": 78,
   "metadata": {
    "collapsed": false,
    "jupyter": {
     "outputs_hidden": false
    }
   },
   "outputs": [
    {
     "name": "stdout",
     "output_type": "stream",
     "text": [
      "WT Gq: 74.99999999999991\n",
      "WT Gq: 0.004188674875026205 9.699402822628964e-07 7.725680038725812e-05 1.2420794012493092e-09 1.543042663828449e-05 4.683149422452693e-06 1.2721290635576463e-07 1.3396302749974802 73.65608258135569\n",
      "MUT Gq: 24.999999999999982\n",
      "MUT Gq: 0.0013954531780187992 7.131933721366298e-05 2.5738031904583847e-05 4.561736708163447e-10 0.0011833927805384795 0.011808371649641028 0.0007630365185451987 0.446296592687307 24.53845609536064\n",
      "Effector: 9.999999999999993\n",
      "Effector: 9.998801176792817 1.543042663828449e-05 0.0011833927805384795\n",
      "Effector GAP: 100.00000000000016\n",
      "Effector GAP: 99.9881869452011 4.683149422452693e-06 0.011808371649641028\n",
      "RGS: 39.99999999999998\n",
      "RGS: 39.99923683626853 1.2721290635576463e-07 0.0007630365185451987\n"
     ]
    }
   ],
   "source": [
    "#Conservation checks\n",
    "print('WT Gq:',G_vec[-1]+Ga_GTP_vec[-1]+Ga_GDP_vec[-1]+Ga_nf_vec[-1]+Ga_GTP_Eff_vec[-1]+Ga_GTP_Eff_GAP_vec[-1]+Ga_GTP_RGS_vec[-1]+Ga_GDP_FR_vec[-1]+G_FR_vec[-1])\n",
    "print('WT Gq:',G_vec[-1],Ga_GTP_vec[-1],Ga_GDP_vec[-1],Ga_nf_vec[-1],Ga_GTP_Eff_vec[-1],Ga_GTP_Eff_GAP_vec[-1],Ga_GTP_RGS_vec[-1],Ga_GDP_FR_vec[-1],G_FR_vec[-1])\n",
    "print('MUT Gq:',G_mut_vec[-1]+Ga_GTP_mut_vec[-1]+Ga_GDP_mut_vec[-1]+Ga_nf_mut_vec[-1]+Ga_GTP_Eff_mut_vec[-1]+Ga_GTP_Eff_GAP_mut_vec[-1]+Ga_GTP_RGS_mut_vec[-1]+Ga_GDP_mut_FR_vec[-1]+G_mut_FR_vec[-1])\n",
    "print('MUT Gq:',G_mut_vec[-1],Ga_GTP_mut_vec[-1],Ga_GDP_mut_vec[-1],Ga_nf_mut_vec[-1],Ga_GTP_Eff_mut_vec[-1],Ga_GTP_Eff_GAP_mut_vec[-1],+Ga_GTP_RGS_mut_vec[-1],Ga_GDP_mut_FR_vec[-1],G_mut_FR_vec[-1])\n",
    "print('Effector:',Eff_vec[-1]+Ga_GTP_Eff_vec[-1]+Ga_GTP_Eff_mut_vec[-1])\n",
    "print('Effector:',Eff_vec[-1],Ga_GTP_Eff_vec[-1],Ga_GTP_Eff_mut_vec[-1])\n",
    "print('Effector GAP:',Eff_GAP_vec[-1]+Ga_GTP_Eff_GAP_vec[-1]+Ga_GTP_Eff_GAP_mut_vec[-1])\n",
    "print('Effector GAP:',Eff_GAP_vec[-1],Ga_GTP_Eff_GAP_vec[-1],Ga_GTP_Eff_GAP_mut_vec[-1])\n",
    "print('RGS:',RGS_vec[-1]+Ga_GTP_RGS_vec[-1]+Ga_GTP_RGS_mut_vec[-1])\n",
    "print('RGS:',RGS_vec[-1],Ga_GTP_RGS_vec[-1],Ga_GTP_RGS_mut_vec[-1])"
   ]
  },
  {
   "cell_type": "code",
   "execution_count": 79,
   "metadata": {
    "collapsed": false,
    "jupyter": {
     "outputs_hidden": false
    }
   },
   "outputs": [
    {
     "data": {
      "text/plain": [
       "<matplotlib.legend.Legend at 0x7ff3db06edf0>"
      ]
     },
     "execution_count": 79,
     "metadata": {},
     "output_type": "execute_result"
    },
    {
     "data": {
      "image/png": "[encoded data removed]",
      "text/plain": [
       "<Figure size 432x288 with 1 Axes>"
      ]
     },
     "metadata": {
      "needs_background": "light"
     },
     "output_type": "display_data"
    }
   ],
   "source": [
    "fig,ax = plt.subplots()\n",
    "# plt.semilogx(FR_moles,(resp_list_WR4)*100/max(resp_list_WR4),'b',label='GNAQ WT/WT',linewidth=2,markersize=10)\n",
    "# plt.semilogx(FR_moles,(resp_list_PR4)*100/max(resp_list_PR4),'k',color='black',label='GNAQ WT/R183C',linewidth=2,markersize=10)\n",
    "# plt.semilogx(FR_moles,(resp_list_LR4)*100/max(resp_list_LR4),'g',label='GNAQ WT/Q209L',linewidth=2,markersize=10)\n",
    "plt.semilogx(FR_moles,(resp_list_WR4)*100/max(resp_list_WR4),'b',label='GNAQ WT/WT',linewidth=2,markersize=10)\n",
    "plt.semilogx(FR_moles,(resp_list_PR4)*100/max(resp_list_PR4),'k',color='black',label='GNAQ WT/R183C',linewidth=2,markersize=10)\n",
    "plt.semilogx(FR_moles,(resp_list_LR4)*100/max(resp_list_LR4),'g',label='GNAQ WT/Q209L',linewidth=2,markersize=10)\n",
    "#plt.plot([10**-12,FR_moles[-1]],[50,50],'--r',linewidth=2,markersize=10)\n",
    "# change all spines\n",
    "for axis in ['top','bottom','left','right']:\n",
    "    ax.spines[axis].set_linewidth(1.5)\n",
    "ax.spines['top'].set_visible(False)\n",
    "ax.spines['right'].set_visible(False)\n",
    "\n",
    "# increase tick width\n",
    "ax.tick_params(length=7,width=1.5)\n",
    "plt.xlabel('Drug [M]',size=20)\n",
    "plt.ylabel('Bound Effector [% of max]',size=20)\n",
    "plt.ylim([0,100])\n",
    "plt.xticks(size=15)\n",
    "plt.yticks([0,25,50,75,100],size=15)\n",
    "plt.legend(loc='upper right',fontsize=12,frameon=False)\n",
    "#plt.savefig('./FR_dose_response.svg',transparent='True')\n",
    "#plt.savefig('./GNAQ_figures/reviewer_response_12-12-23/FR_dose_response.svg',dpi=200,transparent='True')"
   ]
  }
 ],
 "metadata": {
  "kernelspec": {
   "display_name": "Python 3",
   "language": "python",
   "name": "python3"
  },
  "language_info": {
   "codemirror_mode": {
    "name": "ipython",
    "version": 3
   },
   "file_extension": ".py",
   "mimetype": "text/x-python",
   "name": "python",
   "nbconvert_exporter": "python",
   "pygments_lexer": "ipython3",
   "version": "3.8.8"
  }
 },
 "nbformat": 4,
 "nbformat_minor": 4
}
